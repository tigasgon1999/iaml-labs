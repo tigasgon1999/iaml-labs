{
 "cells": [
  {
   "cell_type": "markdown",
   "metadata": {},
   "source": [
    "# Introductory applied machine learning (INFR10069) "
   ]
  },
  {
   "cell_type": "markdown",
   "metadata": {},
   "source": [
    "# Lab 2: Decision trees and linear regression"
   ]
  },
  {
   "cell_type": "markdown",
   "metadata": {},
   "source": [
    "In the first part of this lab we perform Decision trees classification on the [German credit](http://archive.ics.uci.edu/ml/datasets/Statlog+%28German+Credit+Data%29) data set. In the second part we learn how to train simple linear regression model by using the [CPU performance](https://archive.ics.uci.edu/ml/datasets/Computer+Hardware) data set. Both datasets (`credit.csv` and `cpu.csv`) are located within the `datasets` directory (adjacent to this file)."
   ]
  },
  {
   "cell_type": "markdown",
   "metadata": {},
   "source": [
    "As always, first activate the python environment if not already done so (remember to exclude 'source' if you're on windows):"
   ]
  },
  {
   "cell_type": "markdown",
   "metadata": {},
   "source": [
    "```{bash}\n",
    "source activate py3iaml\n",
    "```"
   ]
  },
  {
   "cell_type": "markdown",
   "metadata": {},
   "source": [
    "Now let's import the packages (*This will generate some warnings related to the libraries: ignore*):"
   ]
  },
  {
   "cell_type": "code",
   "execution_count": 1,
   "metadata": {},
   "outputs": [
    {
     "name": "stderr",
     "output_type": "stream",
     "text": [
      "/home/tiagopgle/miniconda3/envs/py3iaml/lib/python3.7/site-packages/sklearn/utils/__init__.py:4: DeprecationWarning: Using or importing the ABCs from 'collections' instead of from 'collections.abc' is deprecated since Python 3.3,and in 3.9 it will stop working\n",
      "  from collections import Sequence\n",
      "/home/tiagopgle/miniconda3/envs/py3iaml/lib/python3.7/site-packages/sklearn/ensemble/weight_boosting.py:29: DeprecationWarning: numpy.core.umath_tests is an internal NumPy module and should not be imported. It will be removed in a future NumPy release.\n",
      "  from numpy.core.umath_tests import inner1d\n"
     ]
    }
   ],
   "source": [
    "# Import packages\n",
    "import os\n",
    "import numpy as np \n",
    "import pandas as pd\n",
    "import matplotlib.pyplot as plt\n",
    "import seaborn as sns\n",
    "import graphviz\n",
    "from sklearn.model_selection import train_test_split\n",
    "from sklearn.linear_model import LinearRegression\n",
    "from sklearn.tree import DecisionTreeClassifier, export_graphviz\n",
    "from sklearn.ensemble import RandomForestClassifier\n",
    "from sklearn.metrics import accuracy_score, confusion_matrix, r2_score\n",
    "%matplotlib inline"
   ]
  },
  {
   "cell_type": "markdown",
   "metadata": {},
   "source": [
    "## 1. Decision Trees\n",
    "One of the great advantages of decision trees is their interpretability. The rules learnt for classification are easy for a person to follow, unlike the opaque \"black box\" of many other methods, such as neural networks. We demonstrate the utility of this using a German credit data set. You can read a description of this dataset at the [UCI site](http://archive.ics.uci.edu/ml/datasets/Statlog+%28German+Credit+Data%29). The task is to predict whether a loan approval is good or bad credit risk based on 20 attributes. We've simplified the data set somewhat, particularly making attribute names and values more meaningful."
   ]
  },
  {
   "cell_type": "markdown",
   "metadata": {
    "collapsed": true
   },
   "source": [
    "We will load the credit dataset into a pandas DataFrame structure. "
   ]
  },
  {
   "cell_type": "code",
   "execution_count": 2,
   "metadata": {},
   "outputs": [],
   "source": [
    "# Load the dataset\n",
    "data_path = os.path.join(os.getcwd(), 'datasets', 'credit.csv')\n",
    "credit = pd.read_csv(data_path, delimiter = ',')"
   ]
  },
  {
   "cell_type": "markdown",
   "metadata": {},
   "source": [
    "### ========== Question 1.1 ==========\n",
    "Display the number of data points and attributes in the dataset. "
   ]
  },
  {
   "cell_type": "code",
   "execution_count": 3,
   "metadata": {},
   "outputs": [
    {
     "name": "stdout",
     "output_type": "stream",
     "text": [
      "Data points: 1001. Attributes: 21.\n"
     ]
    }
   ],
   "source": [
    "# Your Code goes here:\n",
    "print(\"Data points: {}. Attributes: {}.\".format(len(credit), len(credit.columns)))"
   ]
  },
  {
   "cell_type": "markdown",
   "metadata": {},
   "source": [
    "### ========== Question 1.2 ==========\n",
    "Get a feeling of the data by using pandas `describe()` method. Be careful - there is a mixture of numeric and categorical data and hence will need to output it in two stages:"
   ]
  },
  {
   "cell_type": "code",
   "execution_count": 4,
   "metadata": {},
   "outputs": [
    {
     "data": {
      "text/html": [
       "<div>\n",
       "<style scoped>\n",
       "    .dataframe tbody tr th:only-of-type {\n",
       "        vertical-align: middle;\n",
       "    }\n",
       "\n",
       "    .dataframe tbody tr th {\n",
       "        vertical-align: top;\n",
       "    }\n",
       "\n",
       "    .dataframe thead th {\n",
       "        text-align: right;\n",
       "    }\n",
       "</style>\n",
       "<table border=\"1\" class=\"dataframe\">\n",
       "  <thead>\n",
       "    <tr style=\"text-align: right;\">\n",
       "      <th></th>\n",
       "      <th>Duration</th>\n",
       "      <th>CreditAmount</th>\n",
       "      <th>InstallmentRate</th>\n",
       "      <th>ResidentSince</th>\n",
       "      <th>Age</th>\n",
       "      <th>NumCreditsAtBank</th>\n",
       "      <th>Dependents</th>\n",
       "    </tr>\n",
       "  </thead>\n",
       "  <tbody>\n",
       "    <tr>\n",
       "      <th>count</th>\n",
       "      <td>1001.000000</td>\n",
       "      <td>1.001000e+03</td>\n",
       "      <td>1001.000000</td>\n",
       "      <td>1001.000000</td>\n",
       "      <td>1001.000000</td>\n",
       "      <td>1001.000000</td>\n",
       "      <td>1001.000000</td>\n",
       "    </tr>\n",
       "    <tr>\n",
       "      <th>mean</th>\n",
       "      <td>20.882118</td>\n",
       "      <td>-9.957330e+05</td>\n",
       "      <td>-7.019980</td>\n",
       "      <td>2.842158</td>\n",
       "      <td>35.217782</td>\n",
       "      <td>0.406593</td>\n",
       "      <td>0.969031</td>\n",
       "    </tr>\n",
       "    <tr>\n",
       "      <th>std</th>\n",
       "      <td>12.070878</td>\n",
       "      <td>3.160708e+07</td>\n",
       "      <td>316.165715</td>\n",
       "      <td>1.106825</td>\n",
       "      <td>15.398264</td>\n",
       "      <td>31.656714</td>\n",
       "      <td>5.894916</td>\n",
       "    </tr>\n",
       "    <tr>\n",
       "      <th>min</th>\n",
       "      <td>0.000000</td>\n",
       "      <td>-1.000000e+09</td>\n",
       "      <td>-10000.000000</td>\n",
       "      <td>0.000000</td>\n",
       "      <td>-293.000000</td>\n",
       "      <td>-1000.000000</td>\n",
       "      <td>-185.000000</td>\n",
       "    </tr>\n",
       "    <tr>\n",
       "      <th>25%</th>\n",
       "      <td>12.000000</td>\n",
       "      <td>1.364000e+03</td>\n",
       "      <td>2.000000</td>\n",
       "      <td>2.000000</td>\n",
       "      <td>27.000000</td>\n",
       "      <td>1.000000</td>\n",
       "      <td>1.000000</td>\n",
       "    </tr>\n",
       "    <tr>\n",
       "      <th>50%</th>\n",
       "      <td>18.000000</td>\n",
       "      <td>2.319000e+03</td>\n",
       "      <td>3.000000</td>\n",
       "      <td>3.000000</td>\n",
       "      <td>33.000000</td>\n",
       "      <td>1.000000</td>\n",
       "      <td>1.000000</td>\n",
       "    </tr>\n",
       "    <tr>\n",
       "      <th>75%</th>\n",
       "      <td>24.000000</td>\n",
       "      <td>3.972000e+03</td>\n",
       "      <td>4.000000</td>\n",
       "      <td>4.000000</td>\n",
       "      <td>42.000000</td>\n",
       "      <td>2.000000</td>\n",
       "      <td>1.000000</td>\n",
       "    </tr>\n",
       "    <tr>\n",
       "      <th>max</th>\n",
       "      <td>72.000000</td>\n",
       "      <td>1.842400e+04</td>\n",
       "      <td>4.000000</td>\n",
       "      <td>4.000000</td>\n",
       "      <td>75.000000</td>\n",
       "      <td>4.000000</td>\n",
       "      <td>2.000000</td>\n",
       "    </tr>\n",
       "  </tbody>\n",
       "</table>\n",
       "</div>"
      ],
      "text/plain": [
       "          Duration  CreditAmount  InstallmentRate  ResidentSince          Age  \\\n",
       "count  1001.000000  1.001000e+03      1001.000000    1001.000000  1001.000000   \n",
       "mean     20.882118 -9.957330e+05        -7.019980       2.842158    35.217782   \n",
       "std      12.070878  3.160708e+07       316.165715       1.106825    15.398264   \n",
       "min       0.000000 -1.000000e+09    -10000.000000       0.000000  -293.000000   \n",
       "25%      12.000000  1.364000e+03         2.000000       2.000000    27.000000   \n",
       "50%      18.000000  2.319000e+03         3.000000       3.000000    33.000000   \n",
       "75%      24.000000  3.972000e+03         4.000000       4.000000    42.000000   \n",
       "max      72.000000  1.842400e+04         4.000000       4.000000    75.000000   \n",
       "\n",
       "       NumCreditsAtBank   Dependents  \n",
       "count       1001.000000  1001.000000  \n",
       "mean           0.406593     0.969031  \n",
       "std           31.656714     5.894916  \n",
       "min        -1000.000000  -185.000000  \n",
       "25%            1.000000     1.000000  \n",
       "50%            1.000000     1.000000  \n",
       "75%            2.000000     1.000000  \n",
       "max            4.000000     2.000000  "
      ]
     },
     "execution_count": 4,
     "metadata": {},
     "output_type": "execute_result"
    }
   ],
   "source": [
    "# Output Numeric Data\n",
    "# Your Code goes here:\n",
    "credit.describe() #credit.describe(include=[np.number])"
   ]
  },
  {
   "cell_type": "code",
   "execution_count": 5,
   "metadata": {},
   "outputs": [
    {
     "data": {
      "text/html": [
       "<div>\n",
       "<style scoped>\n",
       "    .dataframe tbody tr th:only-of-type {\n",
       "        vertical-align: middle;\n",
       "    }\n",
       "\n",
       "    .dataframe tbody tr th {\n",
       "        vertical-align: top;\n",
       "    }\n",
       "\n",
       "    .dataframe thead th {\n",
       "        text-align: right;\n",
       "    }\n",
       "</style>\n",
       "<table border=\"1\" class=\"dataframe\">\n",
       "  <thead>\n",
       "    <tr style=\"text-align: right;\">\n",
       "      <th></th>\n",
       "      <th>CheckingAccount</th>\n",
       "      <th>CreditHistory</th>\n",
       "      <th>Purpose</th>\n",
       "      <th>SavingsAccount</th>\n",
       "      <th>YearsEmployed</th>\n",
       "      <th>PersonalStatus</th>\n",
       "      <th>OtherDebtors</th>\n",
       "      <th>Property</th>\n",
       "      <th>OtherPlans</th>\n",
       "      <th>Housing</th>\n",
       "      <th>Job</th>\n",
       "      <th>Telephone</th>\n",
       "      <th>Foreign</th>\n",
       "      <th>Approve</th>\n",
       "    </tr>\n",
       "  </thead>\n",
       "  <tbody>\n",
       "    <tr>\n",
       "      <th>count</th>\n",
       "      <td>1001</td>\n",
       "      <td>1001</td>\n",
       "      <td>1001</td>\n",
       "      <td>1001</td>\n",
       "      <td>1001</td>\n",
       "      <td>1001</td>\n",
       "      <td>1001</td>\n",
       "      <td>1001</td>\n",
       "      <td>1001</td>\n",
       "      <td>1001</td>\n",
       "      <td>1001</td>\n",
       "      <td>1001</td>\n",
       "      <td>1001</td>\n",
       "      <td>1001</td>\n",
       "    </tr>\n",
       "    <tr>\n",
       "      <th>unique</th>\n",
       "      <td>4</td>\n",
       "      <td>5</td>\n",
       "      <td>10</td>\n",
       "      <td>5</td>\n",
       "      <td>5</td>\n",
       "      <td>5</td>\n",
       "      <td>3</td>\n",
       "      <td>4</td>\n",
       "      <td>3</td>\n",
       "      <td>3</td>\n",
       "      <td>4</td>\n",
       "      <td>2</td>\n",
       "      <td>2</td>\n",
       "      <td>2</td>\n",
       "    </tr>\n",
       "    <tr>\n",
       "      <th>top</th>\n",
       "      <td>none</td>\n",
       "      <td>ok_til_now</td>\n",
       "      <td>television</td>\n",
       "      <td>&lt;100</td>\n",
       "      <td>&lt;4</td>\n",
       "      <td>male_single</td>\n",
       "      <td>none</td>\n",
       "      <td>car</td>\n",
       "      <td>none</td>\n",
       "      <td>own</td>\n",
       "      <td>skilled</td>\n",
       "      <td>no</td>\n",
       "      <td>yes</td>\n",
       "      <td>good</td>\n",
       "    </tr>\n",
       "    <tr>\n",
       "      <th>freq</th>\n",
       "      <td>394</td>\n",
       "      <td>530</td>\n",
       "      <td>280</td>\n",
       "      <td>603</td>\n",
       "      <td>339</td>\n",
       "      <td>548</td>\n",
       "      <td>908</td>\n",
       "      <td>333</td>\n",
       "      <td>815</td>\n",
       "      <td>714</td>\n",
       "      <td>631</td>\n",
       "      <td>596</td>\n",
       "      <td>963</td>\n",
       "      <td>701</td>\n",
       "    </tr>\n",
       "  </tbody>\n",
       "</table>\n",
       "</div>"
      ],
      "text/plain": [
       "       CheckingAccount CreditHistory     Purpose SavingsAccount YearsEmployed  \\\n",
       "count             1001          1001        1001           1001          1001   \n",
       "unique               4             5          10              5             5   \n",
       "top               none    ok_til_now  television           <100            <4   \n",
       "freq               394           530         280            603           339   \n",
       "\n",
       "       PersonalStatus OtherDebtors Property OtherPlans Housing      Job  \\\n",
       "count            1001         1001     1001       1001    1001     1001   \n",
       "unique              5            3        4          3       3        4   \n",
       "top       male_single         none      car       none     own  skilled   \n",
       "freq              548          908      333        815     714      631   \n",
       "\n",
       "       Telephone Foreign Approve  \n",
       "count       1001    1001    1001  \n",
       "unique         2       2       2  \n",
       "top           no     yes    good  \n",
       "freq         596     963     701  "
      ]
     },
     "execution_count": 5,
     "metadata": {},
     "output_type": "execute_result"
    }
   ],
   "source": [
    "# Output Categorical Data\n",
    "# Your Code goes here:\n",
    "credit.describe(include=['O'])"
   ]
  },
  {
   "cell_type": "markdown",
   "metadata": {},
   "source": [
    "### ========== Question 1.3 ==========\n",
    "Display the first 10 data points of the dataset\n",
    "\n",
    "*TIP*: You may need to set the option to display all columns: look at [pandas.set_option](https://pandas.pydata.org/pandas-docs/version/0.23.4/generated/pandas.set_option.html)."
   ]
  },
  {
   "cell_type": "code",
   "execution_count": 6,
   "metadata": {},
   "outputs": [
    {
     "data": {
      "text/html": [
       "<div>\n",
       "<style scoped>\n",
       "    .dataframe tbody tr th:only-of-type {\n",
       "        vertical-align: middle;\n",
       "    }\n",
       "\n",
       "    .dataframe tbody tr th {\n",
       "        vertical-align: top;\n",
       "    }\n",
       "\n",
       "    .dataframe thead th {\n",
       "        text-align: right;\n",
       "    }\n",
       "</style>\n",
       "<table border=\"1\" class=\"dataframe\">\n",
       "  <thead>\n",
       "    <tr style=\"text-align: right;\">\n",
       "      <th></th>\n",
       "      <th>CheckingAccount</th>\n",
       "      <th>Duration</th>\n",
       "      <th>CreditHistory</th>\n",
       "      <th>Purpose</th>\n",
       "      <th>CreditAmount</th>\n",
       "      <th>SavingsAccount</th>\n",
       "      <th>YearsEmployed</th>\n",
       "      <th>InstallmentRate</th>\n",
       "      <th>PersonalStatus</th>\n",
       "      <th>OtherDebtors</th>\n",
       "      <th>ResidentSince</th>\n",
       "      <th>Property</th>\n",
       "      <th>Age</th>\n",
       "      <th>OtherPlans</th>\n",
       "      <th>Housing</th>\n",
       "      <th>NumCreditsAtBank</th>\n",
       "      <th>Job</th>\n",
       "      <th>Dependents</th>\n",
       "      <th>Telephone</th>\n",
       "      <th>Foreign</th>\n",
       "      <th>Approve</th>\n",
       "    </tr>\n",
       "  </thead>\n",
       "  <tbody>\n",
       "    <tr>\n",
       "      <th>0</th>\n",
       "      <td>&lt;0</td>\n",
       "      <td>0.0</td>\n",
       "      <td>ok</td>\n",
       "      <td>furniture</td>\n",
       "      <td>-1.000000e+09</td>\n",
       "      <td>unknown</td>\n",
       "      <td>unemployed</td>\n",
       "      <td>-10000.0</td>\n",
       "      <td>female_single</td>\n",
       "      <td>none</td>\n",
       "      <td>0.0</td>\n",
       "      <td>car</td>\n",
       "      <td>-293.0</td>\n",
       "      <td>none</td>\n",
       "      <td>own</td>\n",
       "      <td>-1000.0</td>\n",
       "      <td>skilled</td>\n",
       "      <td>-185.0</td>\n",
       "      <td>yes</td>\n",
       "      <td>no</td>\n",
       "      <td>good</td>\n",
       "    </tr>\n",
       "    <tr>\n",
       "      <th>1</th>\n",
       "      <td>&lt;0</td>\n",
       "      <td>6.0</td>\n",
       "      <td>critical</td>\n",
       "      <td>television</td>\n",
       "      <td>1.169000e+03</td>\n",
       "      <td>unknown</td>\n",
       "      <td>&gt;=7</td>\n",
       "      <td>4.0</td>\n",
       "      <td>male_single</td>\n",
       "      <td>none</td>\n",
       "      <td>4.0</td>\n",
       "      <td>real_estate</td>\n",
       "      <td>67.0</td>\n",
       "      <td>none</td>\n",
       "      <td>own</td>\n",
       "      <td>2.0</td>\n",
       "      <td>skilled</td>\n",
       "      <td>1.0</td>\n",
       "      <td>yes</td>\n",
       "      <td>yes</td>\n",
       "      <td>good</td>\n",
       "    </tr>\n",
       "    <tr>\n",
       "      <th>2</th>\n",
       "      <td>&lt;200</td>\n",
       "      <td>48.0</td>\n",
       "      <td>ok_til_now</td>\n",
       "      <td>television</td>\n",
       "      <td>5.951000e+03</td>\n",
       "      <td>&lt;100</td>\n",
       "      <td>&lt;4</td>\n",
       "      <td>2.0</td>\n",
       "      <td>female</td>\n",
       "      <td>none</td>\n",
       "      <td>2.0</td>\n",
       "      <td>real_estate</td>\n",
       "      <td>22.0</td>\n",
       "      <td>none</td>\n",
       "      <td>own</td>\n",
       "      <td>1.0</td>\n",
       "      <td>skilled</td>\n",
       "      <td>1.0</td>\n",
       "      <td>no</td>\n",
       "      <td>yes</td>\n",
       "      <td>bad</td>\n",
       "    </tr>\n",
       "    <tr>\n",
       "      <th>3</th>\n",
       "      <td>none</td>\n",
       "      <td>12.0</td>\n",
       "      <td>critical</td>\n",
       "      <td>education</td>\n",
       "      <td>2.096000e+03</td>\n",
       "      <td>&lt;100</td>\n",
       "      <td>&lt;7</td>\n",
       "      <td>2.0</td>\n",
       "      <td>male_single</td>\n",
       "      <td>none</td>\n",
       "      <td>3.0</td>\n",
       "      <td>real_estate</td>\n",
       "      <td>49.0</td>\n",
       "      <td>none</td>\n",
       "      <td>own</td>\n",
       "      <td>1.0</td>\n",
       "      <td>unskilled</td>\n",
       "      <td>2.0</td>\n",
       "      <td>no</td>\n",
       "      <td>yes</td>\n",
       "      <td>good</td>\n",
       "    </tr>\n",
       "    <tr>\n",
       "      <th>4</th>\n",
       "      <td>&lt;0</td>\n",
       "      <td>42.0</td>\n",
       "      <td>ok_til_now</td>\n",
       "      <td>furniture</td>\n",
       "      <td>7.882000e+03</td>\n",
       "      <td>&lt;100</td>\n",
       "      <td>&lt;7</td>\n",
       "      <td>2.0</td>\n",
       "      <td>male_single</td>\n",
       "      <td>guarantor</td>\n",
       "      <td>4.0</td>\n",
       "      <td>savings</td>\n",
       "      <td>45.0</td>\n",
       "      <td>none</td>\n",
       "      <td>free</td>\n",
       "      <td>1.0</td>\n",
       "      <td>skilled</td>\n",
       "      <td>2.0</td>\n",
       "      <td>no</td>\n",
       "      <td>yes</td>\n",
       "      <td>good</td>\n",
       "    </tr>\n",
       "    <tr>\n",
       "      <th>5</th>\n",
       "      <td>&lt;0</td>\n",
       "      <td>24.0</td>\n",
       "      <td>past_delays</td>\n",
       "      <td>car_new</td>\n",
       "      <td>4.870000e+03</td>\n",
       "      <td>&lt;100</td>\n",
       "      <td>&lt;4</td>\n",
       "      <td>3.0</td>\n",
       "      <td>male_single</td>\n",
       "      <td>none</td>\n",
       "      <td>4.0</td>\n",
       "      <td>unknown</td>\n",
       "      <td>53.0</td>\n",
       "      <td>none</td>\n",
       "      <td>free</td>\n",
       "      <td>2.0</td>\n",
       "      <td>skilled</td>\n",
       "      <td>2.0</td>\n",
       "      <td>no</td>\n",
       "      <td>yes</td>\n",
       "      <td>bad</td>\n",
       "    </tr>\n",
       "    <tr>\n",
       "      <th>6</th>\n",
       "      <td>none</td>\n",
       "      <td>36.0</td>\n",
       "      <td>ok_til_now</td>\n",
       "      <td>education</td>\n",
       "      <td>9.055000e+03</td>\n",
       "      <td>unknown</td>\n",
       "      <td>&lt;4</td>\n",
       "      <td>2.0</td>\n",
       "      <td>male_single</td>\n",
       "      <td>none</td>\n",
       "      <td>4.0</td>\n",
       "      <td>unknown</td>\n",
       "      <td>35.0</td>\n",
       "      <td>none</td>\n",
       "      <td>free</td>\n",
       "      <td>1.0</td>\n",
       "      <td>unskilled</td>\n",
       "      <td>2.0</td>\n",
       "      <td>yes</td>\n",
       "      <td>yes</td>\n",
       "      <td>good</td>\n",
       "    </tr>\n",
       "    <tr>\n",
       "      <th>7</th>\n",
       "      <td>none</td>\n",
       "      <td>24.0</td>\n",
       "      <td>ok_til_now</td>\n",
       "      <td>furniture</td>\n",
       "      <td>2.835000e+03</td>\n",
       "      <td>&lt;1000</td>\n",
       "      <td>&gt;=7</td>\n",
       "      <td>3.0</td>\n",
       "      <td>male_single</td>\n",
       "      <td>none</td>\n",
       "      <td>4.0</td>\n",
       "      <td>savings</td>\n",
       "      <td>53.0</td>\n",
       "      <td>none</td>\n",
       "      <td>own</td>\n",
       "      <td>1.0</td>\n",
       "      <td>skilled</td>\n",
       "      <td>1.0</td>\n",
       "      <td>no</td>\n",
       "      <td>yes</td>\n",
       "      <td>good</td>\n",
       "    </tr>\n",
       "    <tr>\n",
       "      <th>8</th>\n",
       "      <td>&lt;200</td>\n",
       "      <td>36.0</td>\n",
       "      <td>ok_til_now</td>\n",
       "      <td>car_used</td>\n",
       "      <td>6.948000e+03</td>\n",
       "      <td>&lt;100</td>\n",
       "      <td>&lt;4</td>\n",
       "      <td>2.0</td>\n",
       "      <td>male_single</td>\n",
       "      <td>none</td>\n",
       "      <td>2.0</td>\n",
       "      <td>car</td>\n",
       "      <td>35.0</td>\n",
       "      <td>none</td>\n",
       "      <td>rent</td>\n",
       "      <td>1.0</td>\n",
       "      <td>management</td>\n",
       "      <td>1.0</td>\n",
       "      <td>yes</td>\n",
       "      <td>yes</td>\n",
       "      <td>good</td>\n",
       "    </tr>\n",
       "    <tr>\n",
       "      <th>9</th>\n",
       "      <td>none</td>\n",
       "      <td>12.0</td>\n",
       "      <td>ok_til_now</td>\n",
       "      <td>television</td>\n",
       "      <td>3.059000e+03</td>\n",
       "      <td>&gt;=1000</td>\n",
       "      <td>&lt;7</td>\n",
       "      <td>2.0</td>\n",
       "      <td>male_divorced</td>\n",
       "      <td>none</td>\n",
       "      <td>4.0</td>\n",
       "      <td>real_estate</td>\n",
       "      <td>61.0</td>\n",
       "      <td>none</td>\n",
       "      <td>own</td>\n",
       "      <td>1.0</td>\n",
       "      <td>unskilled</td>\n",
       "      <td>1.0</td>\n",
       "      <td>no</td>\n",
       "      <td>yes</td>\n",
       "      <td>good</td>\n",
       "    </tr>\n",
       "  </tbody>\n",
       "</table>\n",
       "</div>"
      ],
      "text/plain": [
       "  CheckingAccount  Duration CreditHistory     Purpose  CreditAmount  \\\n",
       "0              <0       0.0            ok   furniture -1.000000e+09   \n",
       "1              <0       6.0      critical  television  1.169000e+03   \n",
       "2            <200      48.0    ok_til_now  television  5.951000e+03   \n",
       "3            none      12.0      critical   education  2.096000e+03   \n",
       "4              <0      42.0    ok_til_now   furniture  7.882000e+03   \n",
       "5              <0      24.0   past_delays     car_new  4.870000e+03   \n",
       "6            none      36.0    ok_til_now   education  9.055000e+03   \n",
       "7            none      24.0    ok_til_now   furniture  2.835000e+03   \n",
       "8            <200      36.0    ok_til_now    car_used  6.948000e+03   \n",
       "9            none      12.0    ok_til_now  television  3.059000e+03   \n",
       "\n",
       "  SavingsAccount YearsEmployed  InstallmentRate PersonalStatus OtherDebtors  \\\n",
       "0        unknown    unemployed         -10000.0  female_single         none   \n",
       "1        unknown           >=7              4.0    male_single         none   \n",
       "2           <100            <4              2.0         female         none   \n",
       "3           <100            <7              2.0    male_single         none   \n",
       "4           <100            <7              2.0    male_single    guarantor   \n",
       "5           <100            <4              3.0    male_single         none   \n",
       "6        unknown            <4              2.0    male_single         none   \n",
       "7          <1000           >=7              3.0    male_single         none   \n",
       "8           <100            <4              2.0    male_single         none   \n",
       "9         >=1000            <7              2.0  male_divorced         none   \n",
       "\n",
       "   ResidentSince     Property    Age OtherPlans Housing  NumCreditsAtBank  \\\n",
       "0            0.0          car -293.0       none     own           -1000.0   \n",
       "1            4.0  real_estate   67.0       none     own               2.0   \n",
       "2            2.0  real_estate   22.0       none     own               1.0   \n",
       "3            3.0  real_estate   49.0       none     own               1.0   \n",
       "4            4.0      savings   45.0       none    free               1.0   \n",
       "5            4.0      unknown   53.0       none    free               2.0   \n",
       "6            4.0      unknown   35.0       none    free               1.0   \n",
       "7            4.0      savings   53.0       none     own               1.0   \n",
       "8            2.0          car   35.0       none    rent               1.0   \n",
       "9            4.0  real_estate   61.0       none     own               1.0   \n",
       "\n",
       "          Job  Dependents Telephone Foreign Approve  \n",
       "0     skilled      -185.0       yes      no    good  \n",
       "1     skilled         1.0       yes     yes    good  \n",
       "2     skilled         1.0        no     yes     bad  \n",
       "3   unskilled         2.0        no     yes    good  \n",
       "4     skilled         2.0        no     yes    good  \n",
       "5     skilled         2.0        no     yes     bad  \n",
       "6   unskilled         2.0       yes     yes    good  \n",
       "7     skilled         1.0        no     yes    good  \n",
       "8  management         1.0       yes     yes    good  \n",
       "9   unskilled         1.0        no     yes    good  "
      ]
     },
     "execution_count": 6,
     "metadata": {},
     "output_type": "execute_result"
    }
   ],
   "source": [
    "# Your Code goes here:\n",
    "pd.set_option(\"display.max_columns\", None)\n",
    "credit.head(10)"
   ]
  },
  {
   "cell_type": "markdown",
   "metadata": {},
   "source": [
    "### ========== Question 1.4 ==========\n",
    "When presented with a dataset, it is usually a good idea to visualise it first. By using seaborn's [pairplot](https://seaborn.github.io/generated/seaborn.pairplot.html?highlight=pairplot#seaborn.pairplot) function, try visualising a scatter plot of the `Age` and `Duration` variables. You can use the `Approve` variable as the `hue` parameter to visualise results separately for each class. Do you notice anything unusual?"
   ]
  },
  {
   "cell_type": "code",
   "execution_count": 7,
   "metadata": {},
   "outputs": [
    {
     "name": "stderr",
     "output_type": "stream",
     "text": [
      "/home/tiagopgle/miniconda3/envs/py3iaml/lib/python3.7/site-packages/scipy/stats/stats.py:1713: FutureWarning: Using a non-tuple sequence for multidimensional indexing is deprecated; use `arr[tuple(seq)]` instead of `arr[seq]`. In the future this will be interpreted as an array index, `arr[np.array(seq)]`, which will result either in an error or a different result.\n",
      "  return np.add.reduce(sorted[indexer] * weights, axis=axis) / sumval\n"
     ]
    },
    {
     "data": {
      "image/png": "[encoded data removed]",
      "text/plain": [
       "<Figure size 420.75x360 with 6 Axes>"
      ]
     },
     "metadata": {
      "needs_background": "light"
     },
     "output_type": "display_data"
    }
   ],
   "source": [
    "# Your Code goes here:\n",
    "p = sns.pairplot(credit, hue=\"Approve\", vars=[\"Age\", \"Duration\"])"
   ]
  },
  {
   "cell_type": "markdown",
   "metadata": {},
   "source": [
    "***Your answer goes here:***\n",
    "There is a data point with a negative value, which is probably an incorrect reading."
   ]
  },
  {
   "cell_type": "markdown",
   "metadata": {},
   "source": [
    "### ========== Question 1.5 ==========\n",
    "In the previous point you should have found a data point, which seems to be corrupted, as some of its values are nonsensical. Even a single point like this can significantly affect the performance of a classifier. How do you think it would affect Decision trees? How about Naive Bayes? A good way to check this is to test the performance of each classifier before and after removing this datapoint."
   ]
  },
  {
   "cell_type": "markdown",
   "metadata": {},
   "source": [
    "***Your answer goes here:***\n",
    "Naive Bayes is very sensitive to outliers. Decision Trees are also sensitive to outliers, although not as much as Naive Bayes."
   ]
  },
  {
   "cell_type": "markdown",
   "metadata": {},
   "source": [
    "### ========== Question 1.6 ==========\n",
    "Now we want to remove this instance from the dataset by using a filter. In general, we want to remove all instances, where the age of an applicant is lower than 0 years, as this suggests that the instance is corrupted. Use logical indexing to get rid of these instances without creating a new dataframe. Display the number of data points after any outliers have been removed."
   ]
  },
  {
   "cell_type": "code",
   "execution_count": 8,
   "metadata": {},
   "outputs": [
    {
     "name": "stdout",
     "output_type": "stream",
     "text": [
      "Data points after removal of outliers: 1000\n"
     ]
    }
   ],
   "source": [
    "# Your Code goes here:\n",
    "credit = credit[(credit.Age > 0)]\n",
    "print(\"Data points after removal of outliers: {}\".format(len(credit)))"
   ]
  },
  {
   "cell_type": "markdown",
   "metadata": {},
   "source": [
    "## Categorical Data and Encoding"
   ]
  },
  {
   "cell_type": "markdown",
   "metadata": {},
   "source": [
    "### ========== Question 1.7 ==========\n",
    "\n",
    "You might have noticed that most of the attributes in the dataset are in fact discrete. Now we want to know which variables exactly are discrete (both categorical and numerical, look [here](http://stats.stackexchange.com/questions/206/what-is-the-difference-between-discrete-data-and-continuous-data) if you are unsure about the difference) and which are continuous variables. In order to do so, we will inspect the number of possible values that each attribute can take. \n",
    "\n",
    "Display the number of values each attributes takes in the dataset. *Hint: As a first step, you want to loop over the columns of the DataFrame. Then you might find the numpy `unique` function quite useful.*"
   ]
  },
  {
   "cell_type": "code",
   "execution_count": 9,
   "metadata": {},
   "outputs": [
    {
     "name": "stdout",
     "output_type": "stream",
     "text": [
      "* Attribute: CheckingAccount\n",
      "\tNumber of values: 4. Values: ['<0' '<200' '>=200' 'none']\n",
      "\n",
      "* Attribute: Duration\n",
      "\tNumber of values: 33. Values: [ 4.  5.  6.  7.  8.  9. 10. 11. 12. 13. 14. 15. 16. 18. 20. 21. 22. 24.\n",
      " 26. 27. 28. 30. 33. 36. 39. 40. 42. 45. 47. 48. 54. 60. 72.]\n",
      "\n",
      "* Attribute: CreditHistory\n",
      "\tNumber of values: 5. Values: ['critical' 'ok' 'ok_at_this_bank' 'ok_til_now' 'past_delays']\n",
      "\n",
      "* Attribute: Purpose\n",
      "\tNumber of values: 10. Values: ['appliances' 'business' 'car_new' 'car_used' 'education' 'furniture'\n",
      " 'others' 'repairs' 'retraining' 'television']\n",
      "\n",
      "* Attribute: CreditAmount\n",
      "\tNumber of values: 921. Values: [  250.   276.   338.   339.   343.   362.   368.   385.   392.   409.\n",
      "   426.   428.   433.   448.   454.   458.   484.   518.   522.   571.\n",
      "   585.   590.   601.   609.   618.   625.   626.   629.   639.   640.\n",
      "   652.   654.   660.   662.   666.   672.   674.   682.   683.   684.\n",
      "   685.   691.   697.   700.   701.   707.   708.   709.   717.   719.\n",
      "   727.   730.   731.   741.   745.   750.   753.   754.   759.   760.\n",
      "   763.   766.   776.   781.   783.   790.   795.   797.   802.   804.\n",
      "   806.   836.   841.   846.   860.   866.   874.   882.   884.   886.\n",
      "   888.   894.   900.   902.   907.   909.   915.   918.   926.   929.\n",
      "   930.   931.   932.   936.   937.   939.   947.   950.   951.   958.\n",
      "   959.   960.   975.   976.   983.   996.   999.  1007.  1024.  1028.\n",
      "  1037.  1038.  1042.  1047.  1048.  1049.  1050.  1053.  1055.  1056.\n",
      "  1068.  1076.  1082.  1092.  1098.  1101.  1103.  1107.  1108.  1113.\n",
      "  1123.  1126.  1131.  1136.  1138.  1149.  1154.  1155.  1158.  1163.\n",
      "  1164.  1168.  1169.  1175.  1185.  1188.  1190.  1193.  1198.  1199.\n",
      "  1200.  1201.  1203.  1204.  1206.  1207.  1209.  1213.  1216.  1217.\n",
      "  1221.  1223.  1224.  1225.  1228.  1231.  1236.  1237.  1238.  1239.\n",
      "  1240.  1244.  1245.  1246.  1249.  1255.  1258.  1262.  1264.  1271.\n",
      "  1274.  1275.  1278.  1282.  1283.  1285.  1287.  1288.  1289.  1291.\n",
      "  1295.  1297.  1299.  1300.  1301.  1308.  1309.  1311.  1313.  1316.\n",
      "  1318.  1322.  1323.  1330.  1331.  1333.  1337.  1338.  1343.  1344.\n",
      "  1345.  1346.  1347.  1352.  1355.  1358.  1360.  1361.  1364.  1366.\n",
      "  1371.  1372.  1374.  1376.  1377.  1381.  1382.  1386.  1388.  1391.\n",
      "  1393.  1402.  1403.  1409.  1410.  1412.  1413.  1414.  1418.  1422.\n",
      "  1424.  1433.  1437.  1442.  1444.  1445.  1449.  1453.  1455.  1459.\n",
      "  1469.  1471.  1473.  1474.  1478.  1480.  1484.  1493.  1494.  1495.\n",
      "  1498.  1501.  1503.  1505.  1512.  1514.  1516.  1520.  1521.  1525.\n",
      "  1526.  1530.  1532.  1533.  1534.  1537.  1538.  1542.  1543.  1544.\n",
      "  1546.  1549.  1552.  1553.  1554.  1555.  1559.  1567.  1568.  1569.\n",
      "  1572.  1574.  1577.  1582.  1585.  1591.  1592.  1595.  1597.  1602.\n",
      "  1603.  1620.  1647.  1655.  1657.  1659.  1670.  1680.  1715.  1721.\n",
      "  1736.  1740.  1743.  1747.  1750.  1755.  1766.  1768.  1778.  1795.\n",
      "  1797.  1800.  1804.  1808.  1817.  1819.  1820.  1823.  1829.  1835.\n",
      "  1837.  1842.  1845.  1851.  1858.  1860.  1864.  1867.  1872.  1880.\n",
      "  1881.  1882.  1884.  1887.  1893.  1898.  1901.  1905.  1908.  1913.\n",
      "  1919.  1922.  1924.  1925.  1927.  1928.  1934.  1935.  1936.  1938.\n",
      "  1940.  1941.  1943.  1950.  1953.  1957.  1961.  1963.  1965.  1967.\n",
      "  1977.  1979.  1980.  1984.  1987.  1995.  2002.  2012.  2022.  2028.\n",
      "  2030.  2032.  2039.  2051.  2058.  2063.  2064.  2069.  2073.  2080.\n",
      "  2096.  2100.  2101.  2108.  2116.  2118.  2121.  2122.  2124.  2132.\n",
      "  2133.  2134.  2136.  2141.  2142.  2145.  2146.  2149.  2150.  2169.\n",
      "  2171.  2181.  2186.  2197.  2210.  2212.  2214.  2221.  2223.  2225.\n",
      "  2235.  2238.  2241.  2246.  2247.  2249.  2251.  2255.  2273.  2278.\n",
      "  2279.  2284.  2288.  2292.  2299.  2301.  2302.  2303.  2315.  2319.\n",
      "  2320.  2323.  2325.  2326.  2327.  2329.  2331.  2333.  2337.  2346.\n",
      "  2348.  2353.  2359.  2360.  2366.  2375.  2384.  2389.  2390.  2394.\n",
      "  2397.  2404.  2406.  2415.  2424.  2427.  2439.  2442.  2445.  2462.\n",
      "  2463.  2473.  2476.  2483.  2503.  2507.  2511.  2515.  2520.  2522.\n",
      "  2528.  2538.  2569.  2570.  2576.  2577.  2578.  2579.  2580.  2600.\n",
      "  2603.  2606.  2611.  2613.  2622.  2625.  2629.  2631.  2647.  2659.\n",
      "  2662.  2670.  2671.  2675.  2679.  2684.  2687.  2697.  2708.  2712.\n",
      "  2718.  2728.  2743.  2745.  2746.  2748.  2751.  2753.  2759.  2760.\n",
      "  2762.  2764.  2767.  2775.  2779.  2782.  2788.  2799.  2812.  2820.\n",
      "  2825.  2828.  2831.  2835.  2848.  2859.  2862.  2864.  2872.  2892.\n",
      "  2896.  2899.  2901.  2910.  2923.  2924.  2930.  2957.  2964.  2969.\n",
      "  2978.  2991.  2993.  2996.  3001.  3016.  3017.  3021.  3029.  3031.\n",
      "  3049.  3051.  3059.  3060.  3062.  3069.  3074.  3077.  3079.  3092.\n",
      "  3104.  3105.  3108.  3114.  3123.  3124.  3148.  3149.  3160.  3161.\n",
      "  3181.  3186.  3190.  3195.  3213.  3229.  3234.  3235.  3244.  3249.\n",
      "  3275.  3331.  3342.  3343.  3345.  3349.  3357.  3368.  3378.  3380.\n",
      "  3384.  3386.  3394.  3398.  3399.  3414.  3416.  3422.  3430.  3441.\n",
      "  3446.  3447.  3448.  3485.  3488.  3496.  3499.  3509.  3512.  3518.\n",
      "  3527.  3535.  3552.  3556.  3565.  3566.  3568.  3573.  3577.  3578.\n",
      "  3590.  3594.  3595.  3599.  3609.  3612.  3617.  3620.  3621.  3622.\n",
      "  3632.  3643.  3650.  3651.  3652.  3656.  3660.  3676.  3711.  3749.\n",
      "  3757.  3758.  3763.  3777.  3780.  3804.  3812.  3832.  3835.  3844.\n",
      "  3850.  3857.  3863.  3868.  3872.  3878.  3905.  3913.  3914.  3915.\n",
      "  3931.  3939.  3949.  3959.  3965.  3966.  3972.  3973.  3976.  3979.\n",
      "  3990.  4006.  4020.  4042.  4057.  4110.  4113.  4139.  4151.  4153.\n",
      "  4165.  4169.  4210.  4221.  4241.  4249.  4272.  4280.  4281.  4297.\n",
      "  4308.  4351.  4370.  4380.  4439.  4454.  4455.  4463.  4473.  4526.\n",
      "  4530.  4576.  4583.  4591.  4594.  4605.  4611.  4623.  4657.  4675.\n",
      "  4679.  4686.  4712.  4716.  4736.  4746.  4771.  4788.  4795.  4796.\n",
      "  4811.  4817.  4843.  4844.  4870.  4933.  5003.  5045.  5084.  5096.\n",
      "  5103.  5117.  5129.  5150.  5152.  5179.  5190.  5234.  5248.  5293.\n",
      "  5302.  5324.  5371.  5381.  5433.  5493.  5507.  5511.  5595.  5711.\n",
      "  5742.  5743.  5771.  5800.  5801.  5804.  5842.  5848.  5866.  5943.\n",
      "  5951.  5954.  5965.  5998.  6070.  6078.  6110.  6143.  6148.  6187.\n",
      "  6199.  6204.  6224.  6229.  6260.  6288.  6289.  6304.  6313.  6314.\n",
      "  6331.  6350.  6361.  6403.  6416.  6419.  6458.  6468.  6527.  6560.\n",
      "  6568.  6579.  6614.  6615.  6681.  6742.  6758.  6761.  6836.  6842.\n",
      "  6850.  6872.  6887.  6948.  6967.  6999.  7057.  7119.  7127.  7166.\n",
      "  7174.  7228.  7238.  7253.  7297.  7308.  7374.  7393.  7408.  7409.\n",
      "  7418.  7432.  7472.  7476.  7485.  7511.  7582.  7596.  7629.  7678.\n",
      "  7685.  7721.  7758.  7763.  7814.  7824.  7855.  7865.  7882.  7966.\n",
      "  7980.  8065.  8072.  8086.  8133.  8229.  8318.  8335.  8358.  8386.\n",
      "  8471.  8487.  8588.  8613.  8648.  8858.  8947.  8978.  9034.  9055.\n",
      "  9157.  9271.  9277.  9283.  9398.  9436.  9566.  9572.  9629.  9857.\n",
      "  9960. 10127. 10144. 10222. 10297. 10366. 10477. 10623. 10722. 10875.\n",
      " 10961. 10974. 11054. 11328. 11560. 11590. 11760. 11816. 11938. 11998.\n",
      " 12169. 12204. 12389. 12579. 12612. 12680. 12749. 12976. 13756. 14027.\n",
      " 14179. 14318. 14421. 14555. 14782. 14896. 15653. 15672. 15857. 15945.\n",
      " 18424.]\n",
      "\n",
      "* Attribute: SavingsAccount\n",
      "\tNumber of values: 5. Values: ['<100' '<1000' '<500' '>=1000' 'unknown']\n",
      "\n",
      "* Attribute: YearsEmployed\n",
      "\tNumber of values: 5. Values: ['<1' '<4' '<7' '>=7' 'unemployed']\n",
      "\n",
      "* Attribute: InstallmentRate\n",
      "\tNumber of values: 4. Values: [1. 2. 3. 4.]\n",
      "\n",
      "* Attribute: PersonalStatus\n",
      "\tNumber of values: 4. Values: ['female' 'male_divorced' 'male_married' 'male_single']\n",
      "\n",
      "* Attribute: OtherDebtors\n",
      "\tNumber of values: 3. Values: ['co' 'guarantor' 'none']\n",
      "\n",
      "* Attribute: ResidentSince\n",
      "\tNumber of values: 4. Values: [1. 2. 3. 4.]\n",
      "\n",
      "* Attribute: Property\n",
      "\tNumber of values: 4. Values: ['car' 'real_estate' 'savings' 'unknown']\n",
      "\n",
      "* Attribute: Age\n",
      "\tNumber of values: 53. Values: [19. 20. 21. 22. 23. 24. 25. 26. 27. 28. 29. 30. 31. 32. 33. 34. 35. 36.\n",
      " 37. 38. 39. 40. 41. 42. 43. 44. 45. 46. 47. 48. 49. 50. 51. 52. 53. 54.\n",
      " 55. 56. 57. 58. 59. 60. 61. 62. 63. 64. 65. 66. 67. 68. 70. 74. 75.]\n",
      "\n",
      "* Attribute: OtherPlans\n",
      "\tNumber of values: 3. Values: ['bank' 'none' 'stores']\n",
      "\n",
      "* Attribute: Housing\n",
      "\tNumber of values: 3. Values: ['free' 'own' 'rent']\n",
      "\n",
      "* Attribute: NumCreditsAtBank\n",
      "\tNumber of values: 4. Values: [1. 2. 3. 4.]\n",
      "\n",
      "* Attribute: Job\n",
      "\tNumber of values: 4. Values: ['management' 'skilled' 'unemployed' 'unskilled']\n",
      "\n",
      "* Attribute: Dependents\n",
      "\tNumber of values: 2. Values: [1. 2.]\n",
      "\n",
      "* Attribute: Telephone\n",
      "\tNumber of values: 2. Values: ['no' 'yes']\n",
      "\n",
      "* Attribute: Foreign\n",
      "\tNumber of values: 2. Values: ['no' 'yes']\n",
      "\n",
      "* Attribute: Approve\n",
      "\tNumber of values: 2. Values: ['bad' 'good']\n",
      "\n"
     ]
    }
   ],
   "source": [
    "# Your Code goes here:\n",
    "for c in credit:\n",
    "    vals = np.unique(credit[c])\n",
    "    print(\"* Attribute: {}\".format(c))\n",
    "    print(\"\\tNumber of values: {}. Values: {}\\n\".format(len(vals), vals))"
   ]
  },
  {
   "cell_type": "markdown",
   "metadata": {},
   "source": [
    "It seems like the variables `Duration`, `CreditAmount` and `Age` are continuous and all the rest are discrete. The discrete variables are not in a very convenient format though. Ideally we would want the discrete attributes to take values between `0` and `n_values-1`. Pandas has a handy way of dealing with [Categorical](https://pandas.pydata.org/pandas-docs/version/0.23.4/categorical.html) data, which you are encouraged to get familiar with.\n",
    "\n",
    "We will create a new DataFrame called `credit_clean` and convert all the discrete variables from `credit` into pandas Categorical types. Remember, we want to change the discrete variables only, so we will have to exclude the `CreditAmount`, `Age` and `Duration` attributes. Also, we don't really mind if the target variable is categorical, so we won't be transforming the `Approve` attribute either. Execute the cell below and make sure you understand what it does."
   ]
  },
  {
   "cell_type": "code",
   "execution_count": 10,
   "metadata": {},
   "outputs": [],
   "source": [
    "credit_clean = credit.copy(deep=True) # Make a copy of the DataFrame\n",
    "for column in credit_clean.columns:   \n",
    "    if column not in ['CreditAmount', 'Age', 'Duration', 'Approve']: # Exclude non discrete columns and the target\n",
    "        credit_clean[column] = credit_clean[column].astype('category') # Convert using astype(...) method"
   ]
  },
  {
   "cell_type": "markdown",
   "metadata": {},
   "source": [
    "### ========== Question 1.8 ==========\n",
    "Display the first 10 data points of the clean data. Does it look like what you expected?"
   ]
  },
  {
   "cell_type": "code",
   "execution_count": 11,
   "metadata": {},
   "outputs": [
    {
     "data": {
      "text/html": [
       "<div>\n",
       "<style scoped>\n",
       "    .dataframe tbody tr th:only-of-type {\n",
       "        vertical-align: middle;\n",
       "    }\n",
       "\n",
       "    .dataframe tbody tr th {\n",
       "        vertical-align: top;\n",
       "    }\n",
       "\n",
       "    .dataframe thead th {\n",
       "        text-align: right;\n",
       "    }\n",
       "</style>\n",
       "<table border=\"1\" class=\"dataframe\">\n",
       "  <thead>\n",
       "    <tr style=\"text-align: right;\">\n",
       "      <th></th>\n",
       "      <th>CheckingAccount</th>\n",
       "      <th>Duration</th>\n",
       "      <th>CreditHistory</th>\n",
       "      <th>Purpose</th>\n",
       "      <th>CreditAmount</th>\n",
       "      <th>SavingsAccount</th>\n",
       "      <th>YearsEmployed</th>\n",
       "      <th>InstallmentRate</th>\n",
       "      <th>PersonalStatus</th>\n",
       "      <th>OtherDebtors</th>\n",
       "      <th>ResidentSince</th>\n",
       "      <th>Property</th>\n",
       "      <th>Age</th>\n",
       "      <th>OtherPlans</th>\n",
       "      <th>Housing</th>\n",
       "      <th>NumCreditsAtBank</th>\n",
       "      <th>Job</th>\n",
       "      <th>Dependents</th>\n",
       "      <th>Telephone</th>\n",
       "      <th>Foreign</th>\n",
       "      <th>Approve</th>\n",
       "    </tr>\n",
       "  </thead>\n",
       "  <tbody>\n",
       "    <tr>\n",
       "      <th>1</th>\n",
       "      <td>&lt;0</td>\n",
       "      <td>6.0</td>\n",
       "      <td>critical</td>\n",
       "      <td>television</td>\n",
       "      <td>1169.0</td>\n",
       "      <td>unknown</td>\n",
       "      <td>&gt;=7</td>\n",
       "      <td>4.0</td>\n",
       "      <td>male_single</td>\n",
       "      <td>none</td>\n",
       "      <td>4.0</td>\n",
       "      <td>real_estate</td>\n",
       "      <td>67.0</td>\n",
       "      <td>none</td>\n",
       "      <td>own</td>\n",
       "      <td>2.0</td>\n",
       "      <td>skilled</td>\n",
       "      <td>1.0</td>\n",
       "      <td>yes</td>\n",
       "      <td>yes</td>\n",
       "      <td>good</td>\n",
       "    </tr>\n",
       "    <tr>\n",
       "      <th>2</th>\n",
       "      <td>&lt;200</td>\n",
       "      <td>48.0</td>\n",
       "      <td>ok_til_now</td>\n",
       "      <td>television</td>\n",
       "      <td>5951.0</td>\n",
       "      <td>&lt;100</td>\n",
       "      <td>&lt;4</td>\n",
       "      <td>2.0</td>\n",
       "      <td>female</td>\n",
       "      <td>none</td>\n",
       "      <td>2.0</td>\n",
       "      <td>real_estate</td>\n",
       "      <td>22.0</td>\n",
       "      <td>none</td>\n",
       "      <td>own</td>\n",
       "      <td>1.0</td>\n",
       "      <td>skilled</td>\n",
       "      <td>1.0</td>\n",
       "      <td>no</td>\n",
       "      <td>yes</td>\n",
       "      <td>bad</td>\n",
       "    </tr>\n",
       "    <tr>\n",
       "      <th>3</th>\n",
       "      <td>none</td>\n",
       "      <td>12.0</td>\n",
       "      <td>critical</td>\n",
       "      <td>education</td>\n",
       "      <td>2096.0</td>\n",
       "      <td>&lt;100</td>\n",
       "      <td>&lt;7</td>\n",
       "      <td>2.0</td>\n",
       "      <td>male_single</td>\n",
       "      <td>none</td>\n",
       "      <td>3.0</td>\n",
       "      <td>real_estate</td>\n",
       "      <td>49.0</td>\n",
       "      <td>none</td>\n",
       "      <td>own</td>\n",
       "      <td>1.0</td>\n",
       "      <td>unskilled</td>\n",
       "      <td>2.0</td>\n",
       "      <td>no</td>\n",
       "      <td>yes</td>\n",
       "      <td>good</td>\n",
       "    </tr>\n",
       "    <tr>\n",
       "      <th>4</th>\n",
       "      <td>&lt;0</td>\n",
       "      <td>42.0</td>\n",
       "      <td>ok_til_now</td>\n",
       "      <td>furniture</td>\n",
       "      <td>7882.0</td>\n",
       "      <td>&lt;100</td>\n",
       "      <td>&lt;7</td>\n",
       "      <td>2.0</td>\n",
       "      <td>male_single</td>\n",
       "      <td>guarantor</td>\n",
       "      <td>4.0</td>\n",
       "      <td>savings</td>\n",
       "      <td>45.0</td>\n",
       "      <td>none</td>\n",
       "      <td>free</td>\n",
       "      <td>1.0</td>\n",
       "      <td>skilled</td>\n",
       "      <td>2.0</td>\n",
       "      <td>no</td>\n",
       "      <td>yes</td>\n",
       "      <td>good</td>\n",
       "    </tr>\n",
       "    <tr>\n",
       "      <th>5</th>\n",
       "      <td>&lt;0</td>\n",
       "      <td>24.0</td>\n",
       "      <td>past_delays</td>\n",
       "      <td>car_new</td>\n",
       "      <td>4870.0</td>\n",
       "      <td>&lt;100</td>\n",
       "      <td>&lt;4</td>\n",
       "      <td>3.0</td>\n",
       "      <td>male_single</td>\n",
       "      <td>none</td>\n",
       "      <td>4.0</td>\n",
       "      <td>unknown</td>\n",
       "      <td>53.0</td>\n",
       "      <td>none</td>\n",
       "      <td>free</td>\n",
       "      <td>2.0</td>\n",
       "      <td>skilled</td>\n",
       "      <td>2.0</td>\n",
       "      <td>no</td>\n",
       "      <td>yes</td>\n",
       "      <td>bad</td>\n",
       "    </tr>\n",
       "    <tr>\n",
       "      <th>6</th>\n",
       "      <td>none</td>\n",
       "      <td>36.0</td>\n",
       "      <td>ok_til_now</td>\n",
       "      <td>education</td>\n",
       "      <td>9055.0</td>\n",
       "      <td>unknown</td>\n",
       "      <td>&lt;4</td>\n",
       "      <td>2.0</td>\n",
       "      <td>male_single</td>\n",
       "      <td>none</td>\n",
       "      <td>4.0</td>\n",
       "      <td>unknown</td>\n",
       "      <td>35.0</td>\n",
       "      <td>none</td>\n",
       "      <td>free</td>\n",
       "      <td>1.0</td>\n",
       "      <td>unskilled</td>\n",
       "      <td>2.0</td>\n",
       "      <td>yes</td>\n",
       "      <td>yes</td>\n",
       "      <td>good</td>\n",
       "    </tr>\n",
       "    <tr>\n",
       "      <th>7</th>\n",
       "      <td>none</td>\n",
       "      <td>24.0</td>\n",
       "      <td>ok_til_now</td>\n",
       "      <td>furniture</td>\n",
       "      <td>2835.0</td>\n",
       "      <td>&lt;1000</td>\n",
       "      <td>&gt;=7</td>\n",
       "      <td>3.0</td>\n",
       "      <td>male_single</td>\n",
       "      <td>none</td>\n",
       "      <td>4.0</td>\n",
       "      <td>savings</td>\n",
       "      <td>53.0</td>\n",
       "      <td>none</td>\n",
       "      <td>own</td>\n",
       "      <td>1.0</td>\n",
       "      <td>skilled</td>\n",
       "      <td>1.0</td>\n",
       "      <td>no</td>\n",
       "      <td>yes</td>\n",
       "      <td>good</td>\n",
       "    </tr>\n",
       "    <tr>\n",
       "      <th>8</th>\n",
       "      <td>&lt;200</td>\n",
       "      <td>36.0</td>\n",
       "      <td>ok_til_now</td>\n",
       "      <td>car_used</td>\n",
       "      <td>6948.0</td>\n",
       "      <td>&lt;100</td>\n",
       "      <td>&lt;4</td>\n",
       "      <td>2.0</td>\n",
       "      <td>male_single</td>\n",
       "      <td>none</td>\n",
       "      <td>2.0</td>\n",
       "      <td>car</td>\n",
       "      <td>35.0</td>\n",
       "      <td>none</td>\n",
       "      <td>rent</td>\n",
       "      <td>1.0</td>\n",
       "      <td>management</td>\n",
       "      <td>1.0</td>\n",
       "      <td>yes</td>\n",
       "      <td>yes</td>\n",
       "      <td>good</td>\n",
       "    </tr>\n",
       "    <tr>\n",
       "      <th>9</th>\n",
       "      <td>none</td>\n",
       "      <td>12.0</td>\n",
       "      <td>ok_til_now</td>\n",
       "      <td>television</td>\n",
       "      <td>3059.0</td>\n",
       "      <td>&gt;=1000</td>\n",
       "      <td>&lt;7</td>\n",
       "      <td>2.0</td>\n",
       "      <td>male_divorced</td>\n",
       "      <td>none</td>\n",
       "      <td>4.0</td>\n",
       "      <td>real_estate</td>\n",
       "      <td>61.0</td>\n",
       "      <td>none</td>\n",
       "      <td>own</td>\n",
       "      <td>1.0</td>\n",
       "      <td>unskilled</td>\n",
       "      <td>1.0</td>\n",
       "      <td>no</td>\n",
       "      <td>yes</td>\n",
       "      <td>good</td>\n",
       "    </tr>\n",
       "    <tr>\n",
       "      <th>10</th>\n",
       "      <td>&lt;200</td>\n",
       "      <td>30.0</td>\n",
       "      <td>critical</td>\n",
       "      <td>car_new</td>\n",
       "      <td>5234.0</td>\n",
       "      <td>&lt;100</td>\n",
       "      <td>unemployed</td>\n",
       "      <td>4.0</td>\n",
       "      <td>male_married</td>\n",
       "      <td>none</td>\n",
       "      <td>2.0</td>\n",
       "      <td>car</td>\n",
       "      <td>28.0</td>\n",
       "      <td>none</td>\n",
       "      <td>own</td>\n",
       "      <td>2.0</td>\n",
       "      <td>management</td>\n",
       "      <td>1.0</td>\n",
       "      <td>no</td>\n",
       "      <td>yes</td>\n",
       "      <td>bad</td>\n",
       "    </tr>\n",
       "  </tbody>\n",
       "</table>\n",
       "</div>"
      ],
      "text/plain": [
       "   CheckingAccount  Duration CreditHistory     Purpose  CreditAmount  \\\n",
       "1               <0       6.0      critical  television        1169.0   \n",
       "2             <200      48.0    ok_til_now  television        5951.0   \n",
       "3             none      12.0      critical   education        2096.0   \n",
       "4               <0      42.0    ok_til_now   furniture        7882.0   \n",
       "5               <0      24.0   past_delays     car_new        4870.0   \n",
       "6             none      36.0    ok_til_now   education        9055.0   \n",
       "7             none      24.0    ok_til_now   furniture        2835.0   \n",
       "8             <200      36.0    ok_til_now    car_used        6948.0   \n",
       "9             none      12.0    ok_til_now  television        3059.0   \n",
       "10            <200      30.0      critical     car_new        5234.0   \n",
       "\n",
       "   SavingsAccount YearsEmployed InstallmentRate PersonalStatus OtherDebtors  \\\n",
       "1         unknown           >=7             4.0    male_single         none   \n",
       "2            <100            <4             2.0         female         none   \n",
       "3            <100            <7             2.0    male_single         none   \n",
       "4            <100            <7             2.0    male_single    guarantor   \n",
       "5            <100            <4             3.0    male_single         none   \n",
       "6         unknown            <4             2.0    male_single         none   \n",
       "7           <1000           >=7             3.0    male_single         none   \n",
       "8            <100            <4             2.0    male_single         none   \n",
       "9          >=1000            <7             2.0  male_divorced         none   \n",
       "10           <100    unemployed             4.0   male_married         none   \n",
       "\n",
       "   ResidentSince     Property   Age OtherPlans Housing NumCreditsAtBank  \\\n",
       "1            4.0  real_estate  67.0       none     own              2.0   \n",
       "2            2.0  real_estate  22.0       none     own              1.0   \n",
       "3            3.0  real_estate  49.0       none     own              1.0   \n",
       "4            4.0      savings  45.0       none    free              1.0   \n",
       "5            4.0      unknown  53.0       none    free              2.0   \n",
       "6            4.0      unknown  35.0       none    free              1.0   \n",
       "7            4.0      savings  53.0       none     own              1.0   \n",
       "8            2.0          car  35.0       none    rent              1.0   \n",
       "9            4.0  real_estate  61.0       none     own              1.0   \n",
       "10           2.0          car  28.0       none     own              2.0   \n",
       "\n",
       "           Job Dependents Telephone Foreign Approve  \n",
       "1      skilled        1.0       yes     yes    good  \n",
       "2      skilled        1.0        no     yes     bad  \n",
       "3    unskilled        2.0        no     yes    good  \n",
       "4      skilled        2.0        no     yes    good  \n",
       "5      skilled        2.0        no     yes     bad  \n",
       "6    unskilled        2.0       yes     yes    good  \n",
       "7      skilled        1.0        no     yes    good  \n",
       "8   management        1.0       yes     yes    good  \n",
       "9    unskilled        1.0        no     yes    good  \n",
       "10  management        1.0        no     yes     bad  "
      ]
     },
     "execution_count": 11,
     "metadata": {},
     "output_type": "execute_result"
    }
   ],
   "source": [
    "# Your Code goes here:\n",
    "credit_clean.head(10)"
   ]
  },
  {
   "cell_type": "markdown",
   "metadata": {},
   "source": [
    "### ========== Question 1.9 ==========\n",
    "\n",
    "There is a **conceptual** problem with using an (unordered) categorical input to train a decision tree. Can you figure it out? *Hint*: Look at the data-types supported by the `DecisionTreeClassifier`, specifically the input to the [fit](http://scikit-learn.org/0.19/modules/generated/sklearn.tree.DecisionTreeClassifier.html#sklearn.tree.DecisionTreeClassifier.fit) method."
   ]
  },
  {
   "cell_type": "markdown",
   "metadata": {},
   "source": [
    "***Your answer goes here:*** One of the parameters is the indexes of the sorted training input samples, which is not possible to obtain."
   ]
  },
  {
   "cell_type": "markdown",
   "metadata": {},
   "source": [
    "### ========== Question 1.10 ==========\n",
    "\n",
    "Let us then convert the categorical values we just created into a one-hot-encoding. Pandas provides this functionality conveniently via the [`get_dummies`](https://pandas.pydata.org/pandas-docs/version/0.23.4/generated/pandas.get_dummies.html) method. Use it to generate a matrix `X` containing the one-hot encoded categorical features as well as the floating-point attributes (`CreditAmount`, `Age` and `Duration`). Also, (separately) extract the target variable (`Approve`) into a vector `y`. In each case, display the shape of the matrix/vector `X` and `y`. \n",
    "\n",
    "*TIP: It will be useful to keep track of the column names in the new one-hot-encoded format for later.*"
   ]
  },
  {
   "cell_type": "code",
   "execution_count": 12,
   "metadata": {},
   "outputs": [
    {
     "name": "stdout",
     "output_type": "stream",
     "text": [
      "(1000, 71)\n"
     ]
    }
   ],
   "source": [
    "# Extract (and print the shape of) X\n",
    "\n",
    "# Your Code goes here:\n",
    "X = pd.get_dummies(credit_clean.drop(\"Approve\", axis=1))\n",
    "print(X.shape)"
   ]
  },
  {
   "cell_type": "code",
   "execution_count": 13,
   "metadata": {},
   "outputs": [
    {
     "name": "stdout",
     "output_type": "stream",
     "text": [
      "(1000,)\n"
     ]
    }
   ],
   "source": [
    "# Extract the Target y (and print its shape)\n",
    "\n",
    "# Your Code goes here:\n",
    "#y = pd.get_dummies(credit_clean[\"Approve\"])\n",
    "y = credit_clean['Approve'].values\n",
    "print(y.shape)"
   ]
  },
  {
   "cell_type": "markdown",
   "metadata": {},
   "source": [
    "(Confirm that you have 71 input features, one target variable and 1000 data points). *Bonus Question*: where did the 71 come from?"
   ]
  },
  {
   "cell_type": "markdown",
   "metadata": {},
   "source": [
    "## Hold-out validation\n",
    "In the next step we will be using a Decision Tree classifier model. To get an accurate estimate of the model's classification performance we will use hold-out validation. Familiriase yourself with the logic behind [`train_test_split CV`](http://scikit-learn.org/0.19/modules/cross_validation.html#cross-validation-evaluating-estimator-performance) (also called `Hold-out` validation) and [how it is used](http://scikit-learn.org/0.19/modules/generated/sklearn.cross_validation.train_test_split.html) in `Scikit-learn`. Execute the cell below to create your training/testing sets by assigning 10% of the data to the test set (and convince yourself you understand what is going on)."
   ]
  },
  {
   "cell_type": "code",
   "execution_count": 14,
   "metadata": {},
   "outputs": [],
   "source": [
    "X_train, X_test, y_train, y_test = train_test_split(X, y, train_size = 0.9, test_size=0.1, random_state=0)"
   ]
  },
  {
   "cell_type": "markdown",
   "metadata": {},
   "source": [
    "### ========== Question 1.11 ==========\n",
    "Confirm that `X_train` and `X_test` matrices are subsets of `X` by displaying the number of rows in the three matrices (no need to make use of set theory)."
   ]
  },
  {
   "cell_type": "code",
   "execution_count": 15,
   "metadata": {},
   "outputs": [
    {
     "name": "stdout",
     "output_type": "stream",
     "text": [
      "Rows X: 1000. Rows X_train: 900. Rows X_test: 100\n"
     ]
    }
   ],
   "source": [
    "# Your Code goes here:\n",
    "print(\"Rows X: {}. Rows X_train: {}. Rows X_test: {}\".format(len(X), len(X_train), len(X_test)))"
   ]
  },
  {
   "cell_type": "markdown",
   "metadata": {},
   "source": [
    "### ========== Question 1.12 ==========\n",
    "Now we will train a Decision Tree classifier on the training data. Read about [Decision Tree classifiers](http://scikit-learn.org/0.19/modules/tree.html) in `Scikit-learn` and how they are [used](http://scikit-learn.org/0.19/modules/generated/sklearn.tree.DecisionTreeClassifier.html#sklearn.tree.DecisionTreeClassifier). \n",
    "Create a `DecisionTreeClassifier` instance, naming it `dt` and train it by using training data only (i.e. `X_train` and `y_tain`). Set the `criterion` attribute to `entropy` in order to measure the quality of splits by using the information gain. Use the default settings for the rest of parameters. By default, trees are grown to full depth; this means that very fine splits are made involving very few data points. Not only does this make the trees hard to visualise (they'll be deep), but also we could be overfitting the data. For now, we arbitrarily choose a depth of 2 for our tree (to make it easier to interpret below), but this is a parameter we could tune. For consistency, use a `random_state=1000`."
   ]
  },
  {
   "cell_type": "code",
   "execution_count": 16,
   "metadata": {},
   "outputs": [
    {
     "data": {
      "text/plain": [
       "DecisionTreeClassifier(class_weight=None, criterion='entropy', max_depth=3,\n",
       "            max_features=None, max_leaf_nodes=None,\n",
       "            min_impurity_decrease=0.0, min_impurity_split=None,\n",
       "            min_samples_leaf=1, min_samples_split=2,\n",
       "            min_weight_fraction_leaf=0.0, presort=False, random_state=1000,\n",
       "            splitter='best')"
      ]
     },
     "execution_count": 16,
     "metadata": {},
     "output_type": "execute_result"
    }
   ],
   "source": [
    "# Your Code goes here:\n",
    "dt = DecisionTreeClassifier(criterion=\"entropy\", max_depth=3, random_state=1000)\n",
    "dt.fit(X_train, y_train)"
   ]
  },
  {
   "cell_type": "markdown",
   "metadata": {},
   "source": [
    "We have mentioned in the class that decision trees have the advantage of being interpretable by humans. Now we visualise the decision tree we have just trained. Scikit-learn can export the tree in a `.dot` format. Run the following code (replace `column_names` with whatever you used to store the names of the columns of the extended feature-space):"
   ]
  },
  {
   "cell_type": "code",
   "execution_count": 17,
   "metadata": {
    "collapsed": true
   },
   "outputs": [
    {
     "data": {
      "image/svg+xml": [
       "<?xml version=\"1.0\" encoding=\"UTF-8\" standalone=\"no\"?>\n",
       "<!DOCTYPE svg PUBLIC \"-//W3C//DTD SVG 1.1//EN\"\n",
       " \"http://www.w3.org/Graphics/SVG/1.1/DTD/svg11.dtd\">\n",
       "<!-- Generated by graphviz version 2.40.1 (20161225.0304)\n",
       " -->\n",
       "<!-- Title: Tree Pages: 1 -->\n",
       "<svg width=\"1209pt\" height=\"433pt\"\n",
       " viewBox=\"0.00 0.00 1209.00 433.00\" xmlns=\"http://www.w3.org/2000/svg\" xmlns:xlink=\"http://www.w3.org/1999/xlink\">\n",
       "<g id=\"graph0\" class=\"graph\" transform=\"scale(1 1) rotate(0) translate(4 429)\">\n",
       "<title>Tree</title>\n",
       "<polygon fill=\"#ffffff\" stroke=\"transparent\" points=\"-4,4 -4,-429 1205,-429 1205,4 -4,4\"/>\n",
       "<!-- 0 -->\n",
       "<g id=\"node1\" class=\"node\">\n",
       "<title>0</title>\n",
       "<path fill=\"#399de5\" fill-opacity=\"0.560784\" stroke=\"#000000\" d=\"M743,-425C743,-425 529,-425 529,-425 523,-425 517,-419 517,-413 517,-413 517,-354 517,-354 517,-348 523,-342 529,-342 529,-342 743,-342 743,-342 749,-342 755,-348 755,-354 755,-354 755,-413 755,-413 755,-419 749,-425 743,-425\"/>\n",
       "<text text-anchor=\"middle\" x=\"636\" y=\"-409.8\" font-family=\"Helvetica,sans-Serif\" font-size=\"14.00\" fill=\"#000000\">CheckingAccount_none &lt;= 0.5</text>\n",
       "<text text-anchor=\"middle\" x=\"636\" y=\"-394.8\" font-family=\"Helvetica,sans-Serif\" font-size=\"14.00\" fill=\"#000000\">entropy = 0.888</text>\n",
       "<text text-anchor=\"middle\" x=\"636\" y=\"-379.8\" font-family=\"Helvetica,sans-Serif\" font-size=\"14.00\" fill=\"#000000\">samples = 900</text>\n",
       "<text text-anchor=\"middle\" x=\"636\" y=\"-364.8\" font-family=\"Helvetica,sans-Serif\" font-size=\"14.00\" fill=\"#000000\">value = [275, 625]</text>\n",
       "<text text-anchor=\"middle\" x=\"636\" y=\"-349.8\" font-family=\"Helvetica,sans-Serif\" font-size=\"14.00\" fill=\"#000000\">class = bad</text>\n",
       "</g>\n",
       "<!-- 1 -->\n",
       "<g id=\"node2\" class=\"node\">\n",
       "<title>1</title>\n",
       "<path fill=\"#399de5\" fill-opacity=\"0.250980\" stroke=\"#000000\" d=\"M570,-306C570,-306 444,-306 444,-306 438,-306 432,-300 432,-294 432,-294 432,-235 432,-235 432,-229 438,-223 444,-223 444,-223 570,-223 570,-223 576,-223 582,-229 582,-235 582,-235 582,-294 582,-294 582,-300 576,-306 570,-306\"/>\n",
       "<text text-anchor=\"middle\" x=\"507\" y=\"-290.8\" font-family=\"Helvetica,sans-Serif\" font-size=\"14.00\" fill=\"#000000\">Duration &lt;= 11.5</text>\n",
       "<text text-anchor=\"middle\" x=\"507\" y=\"-275.8\" font-family=\"Helvetica,sans-Serif\" font-size=\"14.00\" fill=\"#000000\">entropy = 0.985</text>\n",
       "<text text-anchor=\"middle\" x=\"507\" y=\"-260.8\" font-family=\"Helvetica,sans-Serif\" font-size=\"14.00\" fill=\"#000000\">samples = 544</text>\n",
       "<text text-anchor=\"middle\" x=\"507\" y=\"-245.8\" font-family=\"Helvetica,sans-Serif\" font-size=\"14.00\" fill=\"#000000\">value = [233, 311]</text>\n",
       "<text text-anchor=\"middle\" x=\"507\" y=\"-230.8\" font-family=\"Helvetica,sans-Serif\" font-size=\"14.00\" fill=\"#000000\">class = bad</text>\n",
       "</g>\n",
       "<!-- 0&#45;&gt;1 -->\n",
       "<g id=\"edge1\" class=\"edge\">\n",
       "<title>0&#45;&gt;1</title>\n",
       "<path fill=\"none\" stroke=\"#000000\" d=\"M590.8821,-341.8796C580.826,-332.6031 570.077,-322.6874 559.7446,-313.1559\"/>\n",
       "<polygon fill=\"#000000\" stroke=\"#000000\" points=\"562.0339,-310.506 552.3105,-306.2981 557.2876,-315.6511 562.0339,-310.506\"/>\n",
       "<text text-anchor=\"middle\" x=\"553.3178\" y=\"-327.5778\" font-family=\"Helvetica,sans-Serif\" font-size=\"14.00\" fill=\"#000000\">True</text>\n",
       "</g>\n",
       "<!-- 8 -->\n",
       "<g id=\"node9\" class=\"node\">\n",
       "<title>8</title>\n",
       "<path fill=\"#399de5\" fill-opacity=\"0.866667\" stroke=\"#000000\" d=\"M829,-306C829,-306 659,-306 659,-306 653,-306 647,-300 647,-294 647,-294 647,-235 647,-235 647,-229 653,-223 659,-223 659,-223 829,-223 829,-223 835,-223 841,-229 841,-235 841,-235 841,-294 841,-294 841,-300 835,-306 829,-306\"/>\n",
       "<text text-anchor=\"middle\" x=\"744\" y=\"-290.8\" font-family=\"Helvetica,sans-Serif\" font-size=\"14.00\" fill=\"#000000\">OtherPlans_none &lt;= 0.5</text>\n",
       "<text text-anchor=\"middle\" x=\"744\" y=\"-275.8\" font-family=\"Helvetica,sans-Serif\" font-size=\"14.00\" fill=\"#000000\">entropy = 0.524</text>\n",
       "<text text-anchor=\"middle\" x=\"744\" y=\"-260.8\" font-family=\"Helvetica,sans-Serif\" font-size=\"14.00\" fill=\"#000000\">samples = 356</text>\n",
       "<text text-anchor=\"middle\" x=\"744\" y=\"-245.8\" font-family=\"Helvetica,sans-Serif\" font-size=\"14.00\" fill=\"#000000\">value = [42, 314]</text>\n",
       "<text text-anchor=\"middle\" x=\"744\" y=\"-230.8\" font-family=\"Helvetica,sans-Serif\" font-size=\"14.00\" fill=\"#000000\">class = bad</text>\n",
       "</g>\n",
       "<!-- 0&#45;&gt;8 -->\n",
       "<g id=\"edge8\" class=\"edge\">\n",
       "<title>0&#45;&gt;8</title>\n",
       "<path fill=\"none\" stroke=\"#000000\" d=\"M673.7732,-341.8796C682.0287,-332.7832 690.842,-323.0722 699.3374,-313.7116\"/>\n",
       "<polygon fill=\"#000000\" stroke=\"#000000\" points=\"701.9368,-316.0553 706.0656,-306.2981 696.7533,-311.3509 701.9368,-316.0553\"/>\n",
       "<text text-anchor=\"middle\" x=\"707.2756\" y=\"-327.5688\" font-family=\"Helvetica,sans-Serif\" font-size=\"14.00\" fill=\"#000000\">False</text>\n",
       "</g>\n",
       "<!-- 2 -->\n",
       "<g id=\"node3\" class=\"node\">\n",
       "<title>2</title>\n",
       "<path fill=\"#399de5\" fill-opacity=\"0.741176\" stroke=\"#000000\" d=\"M346.5,-187C346.5,-187 83.5,-187 83.5,-187 77.5,-187 71.5,-181 71.5,-175 71.5,-175 71.5,-116 71.5,-116 71.5,-110 77.5,-104 83.5,-104 83.5,-104 346.5,-104 346.5,-104 352.5,-104 358.5,-110 358.5,-116 358.5,-116 358.5,-175 358.5,-175 358.5,-181 352.5,-187 346.5,-187\"/>\n",
       "<text text-anchor=\"middle\" x=\"215\" y=\"-171.8\" font-family=\"Helvetica,sans-Serif\" font-size=\"14.00\" fill=\"#000000\">CreditHistory_ok_at_this_bank &lt;= 0.5</text>\n",
       "<text text-anchor=\"middle\" x=\"215\" y=\"-156.8\" font-family=\"Helvetica,sans-Serif\" font-size=\"14.00\" fill=\"#000000\">entropy = 0.735</text>\n",
       "<text text-anchor=\"middle\" x=\"215\" y=\"-141.8\" font-family=\"Helvetica,sans-Serif\" font-size=\"14.00\" fill=\"#000000\">samples = 92</text>\n",
       "<text text-anchor=\"middle\" x=\"215\" y=\"-126.8\" font-family=\"Helvetica,sans-Serif\" font-size=\"14.00\" fill=\"#000000\">value = [19, 73]</text>\n",
       "<text text-anchor=\"middle\" x=\"215\" y=\"-111.8\" font-family=\"Helvetica,sans-Serif\" font-size=\"14.00\" fill=\"#000000\">class = bad</text>\n",
       "</g>\n",
       "<!-- 1&#45;&gt;2 -->\n",
       "<g id=\"edge2\" class=\"edge\">\n",
       "<title>1&#45;&gt;2</title>\n",
       "<path fill=\"none\" stroke=\"#000000\" d=\"M431.8027,-233.8545C399.6933,-220.7689 361.5554,-205.2263 326.2864,-190.853\"/>\n",
       "<polygon fill=\"#000000\" stroke=\"#000000\" points=\"327.4879,-187.5632 316.9064,-187.0304 324.846,-194.0456 327.4879,-187.5632\"/>\n",
       "</g>\n",
       "<!-- 5 -->\n",
       "<g id=\"node6\" class=\"node\">\n",
       "<title>5</title>\n",
       "<path fill=\"#399de5\" fill-opacity=\"0.101961\" stroke=\"#000000\" d=\"M606.5,-187C606.5,-187 407.5,-187 407.5,-187 401.5,-187 395.5,-181 395.5,-175 395.5,-175 395.5,-116 395.5,-116 395.5,-110 401.5,-104 407.5,-104 407.5,-104 606.5,-104 606.5,-104 612.5,-104 618.5,-110 618.5,-116 618.5,-116 618.5,-175 618.5,-175 618.5,-181 612.5,-187 606.5,-187\"/>\n",
       "<text text-anchor=\"middle\" x=\"507\" y=\"-171.8\" font-family=\"Helvetica,sans-Serif\" font-size=\"14.00\" fill=\"#000000\">CheckingAccount_&lt;0 &lt;= 0.5</text>\n",
       "<text text-anchor=\"middle\" x=\"507\" y=\"-156.8\" font-family=\"Helvetica,sans-Serif\" font-size=\"14.00\" fill=\"#000000\">entropy = 0.998</text>\n",
       "<text text-anchor=\"middle\" x=\"507\" y=\"-141.8\" font-family=\"Helvetica,sans-Serif\" font-size=\"14.00\" fill=\"#000000\">samples = 452</text>\n",
       "<text text-anchor=\"middle\" x=\"507\" y=\"-126.8\" font-family=\"Helvetica,sans-Serif\" font-size=\"14.00\" fill=\"#000000\">value = [214, 238]</text>\n",
       "<text text-anchor=\"middle\" x=\"507\" y=\"-111.8\" font-family=\"Helvetica,sans-Serif\" font-size=\"14.00\" fill=\"#000000\">class = bad</text>\n",
       "</g>\n",
       "<!-- 1&#45;&gt;5 -->\n",
       "<g id=\"edge5\" class=\"edge\">\n",
       "<title>1&#45;&gt;5</title>\n",
       "<path fill=\"none\" stroke=\"#000000\" d=\"M507,-222.8796C507,-214.6838 507,-205.9891 507,-197.5013\"/>\n",
       "<polygon fill=\"#000000\" stroke=\"#000000\" points=\"510.5001,-197.298 507,-187.2981 503.5001,-197.2981 510.5001,-197.298\"/>\n",
       "</g>\n",
       "<!-- 3 -->\n",
       "<g id=\"node4\" class=\"node\">\n",
       "<title>3</title>\n",
       "<path fill=\"#399de5\" fill-opacity=\"0.803922\" stroke=\"#000000\" d=\"M122,-68C122,-68 12,-68 12,-68 6,-68 0,-62 0,-56 0,-56 0,-12 0,-12 0,-6 6,0 12,0 12,0 122,0 122,0 128,0 134,-6 134,-12 134,-12 134,-56 134,-56 134,-62 128,-68 122,-68\"/>\n",
       "<text text-anchor=\"middle\" x=\"67\" y=\"-52.8\" font-family=\"Helvetica,sans-Serif\" font-size=\"14.00\" fill=\"#000000\">entropy = 0.641</text>\n",
       "<text text-anchor=\"middle\" x=\"67\" y=\"-37.8\" font-family=\"Helvetica,sans-Serif\" font-size=\"14.00\" fill=\"#000000\">samples = 86</text>\n",
       "<text text-anchor=\"middle\" x=\"67\" y=\"-22.8\" font-family=\"Helvetica,sans-Serif\" font-size=\"14.00\" fill=\"#000000\">value = [14, 72]</text>\n",
       "<text text-anchor=\"middle\" x=\"67\" y=\"-7.8\" font-family=\"Helvetica,sans-Serif\" font-size=\"14.00\" fill=\"#000000\">class = bad</text>\n",
       "</g>\n",
       "<!-- 2&#45;&gt;3 -->\n",
       "<g id=\"edge3\" class=\"edge\">\n",
       "<title>2&#45;&gt;3</title>\n",
       "<path fill=\"none\" stroke=\"#000000\" d=\"M159.8903,-103.9815C147.081,-94.3313 133.4625,-84.0714 120.7144,-74.4673\"/>\n",
       "<polygon fill=\"#000000\" stroke=\"#000000\" points=\"122.5731,-71.4855 112.48,-68.2637 118.361,-77.0764 122.5731,-71.4855\"/>\n",
       "</g>\n",
       "<!-- 4 -->\n",
       "<g id=\"node5\" class=\"node\">\n",
       "<title>4</title>\n",
       "<path fill=\"#e58139\" fill-opacity=\"0.800000\" stroke=\"#000000\" d=\"M265.5,-68C265.5,-68 164.5,-68 164.5,-68 158.5,-68 152.5,-62 152.5,-56 152.5,-56 152.5,-12 152.5,-12 152.5,-6 158.5,0 164.5,0 164.5,0 265.5,0 265.5,0 271.5,0 277.5,-6 277.5,-12 277.5,-12 277.5,-56 277.5,-56 277.5,-62 271.5,-68 265.5,-68\"/>\n",
       "<text text-anchor=\"middle\" x=\"215\" y=\"-52.8\" font-family=\"Helvetica,sans-Serif\" font-size=\"14.00\" fill=\"#000000\">entropy = 0.65</text>\n",
       "<text text-anchor=\"middle\" x=\"215\" y=\"-37.8\" font-family=\"Helvetica,sans-Serif\" font-size=\"14.00\" fill=\"#000000\">samples = 6</text>\n",
       "<text text-anchor=\"middle\" x=\"215\" y=\"-22.8\" font-family=\"Helvetica,sans-Serif\" font-size=\"14.00\" fill=\"#000000\">value = [5, 1]</text>\n",
       "<text text-anchor=\"middle\" x=\"215\" y=\"-7.8\" font-family=\"Helvetica,sans-Serif\" font-size=\"14.00\" fill=\"#000000\">class = good</text>\n",
       "</g>\n",
       "<!-- 2&#45;&gt;4 -->\n",
       "<g id=\"edge4\" class=\"edge\">\n",
       "<title>2&#45;&gt;4</title>\n",
       "<path fill=\"none\" stroke=\"#000000\" d=\"M215,-103.9815C215,-95.618 215,-86.7965 215,-78.3409\"/>\n",
       "<polygon fill=\"#000000\" stroke=\"#000000\" points=\"218.5001,-78.2636 215,-68.2637 211.5001,-78.2637 218.5001,-78.2636\"/>\n",
       "</g>\n",
       "<!-- 6 -->\n",
       "<g id=\"node7\" class=\"node\">\n",
       "<title>6</title>\n",
       "<path fill=\"#399de5\" fill-opacity=\"0.392157\" stroke=\"#000000\" d=\"M424.5,-68C424.5,-68 307.5,-68 307.5,-68 301.5,-68 295.5,-62 295.5,-56 295.5,-56 295.5,-12 295.5,-12 295.5,-6 301.5,0 307.5,0 307.5,0 424.5,0 424.5,0 430.5,0 436.5,-6 436.5,-12 436.5,-12 436.5,-56 436.5,-56 436.5,-62 430.5,-68 424.5,-68\"/>\n",
       "<text text-anchor=\"middle\" x=\"366\" y=\"-52.8\" font-family=\"Helvetica,sans-Serif\" font-size=\"14.00\" fill=\"#000000\">entropy = 0.957</text>\n",
       "<text text-anchor=\"middle\" x=\"366\" y=\"-37.8\" font-family=\"Helvetica,sans-Serif\" font-size=\"14.00\" fill=\"#000000\">samples = 243</text>\n",
       "<text text-anchor=\"middle\" x=\"366\" y=\"-22.8\" font-family=\"Helvetica,sans-Serif\" font-size=\"14.00\" fill=\"#000000\">value = [92, 151]</text>\n",
       "<text text-anchor=\"middle\" x=\"366\" y=\"-7.8\" font-family=\"Helvetica,sans-Serif\" font-size=\"14.00\" fill=\"#000000\">class = bad</text>\n",
       "</g>\n",
       "<!-- 5&#45;&gt;6 -->\n",
       "<g id=\"edge6\" class=\"edge\">\n",
       "<title>5&#45;&gt;6</title>\n",
       "<path fill=\"none\" stroke=\"#000000\" d=\"M454.4968,-103.9815C442.2934,-94.3313 429.319,-84.0714 417.1739,-74.4673\"/>\n",
       "<polygon fill=\"#000000\" stroke=\"#000000\" points=\"419.3438,-71.7211 409.329,-68.2637 415.0018,-77.2118 419.3438,-71.7211\"/>\n",
       "</g>\n",
       "<!-- 7 -->\n",
       "<g id=\"node8\" class=\"node\">\n",
       "<title>7</title>\n",
       "<path fill=\"#e58139\" fill-opacity=\"0.286275\" stroke=\"#000000\" d=\"M583.5,-68C583.5,-68 466.5,-68 466.5,-68 460.5,-68 454.5,-62 454.5,-56 454.5,-56 454.5,-12 454.5,-12 454.5,-6 460.5,0 466.5,0 466.5,0 583.5,0 583.5,0 589.5,0 595.5,-6 595.5,-12 595.5,-12 595.5,-56 595.5,-56 595.5,-62 589.5,-68 583.5,-68\"/>\n",
       "<text text-anchor=\"middle\" x=\"525\" y=\"-52.8\" font-family=\"Helvetica,sans-Serif\" font-size=\"14.00\" fill=\"#000000\">entropy = 0.98</text>\n",
       "<text text-anchor=\"middle\" x=\"525\" y=\"-37.8\" font-family=\"Helvetica,sans-Serif\" font-size=\"14.00\" fill=\"#000000\">samples = 209</text>\n",
       "<text text-anchor=\"middle\" x=\"525\" y=\"-22.8\" font-family=\"Helvetica,sans-Serif\" font-size=\"14.00\" fill=\"#000000\">value = [122, 87]</text>\n",
       "<text text-anchor=\"middle\" x=\"525\" y=\"-7.8\" font-family=\"Helvetica,sans-Serif\" font-size=\"14.00\" fill=\"#000000\">class = good</text>\n",
       "</g>\n",
       "<!-- 5&#45;&gt;7 -->\n",
       "<g id=\"edge7\" class=\"edge\">\n",
       "<title>5&#45;&gt;7</title>\n",
       "<path fill=\"none\" stroke=\"#000000\" d=\"M513.7025,-103.9815C515.0527,-95.618 516.4768,-86.7965 517.8418,-78.3409\"/>\n",
       "<polygon fill=\"#000000\" stroke=\"#000000\" points=\"521.3301,-78.6937 519.4686,-68.2637 514.4196,-77.578 521.3301,-78.6937\"/>\n",
       "</g>\n",
       "<!-- 9 -->\n",
       "<g id=\"node10\" class=\"node\">\n",
       "<title>9</title>\n",
       "<path fill=\"#399de5\" fill-opacity=\"0.552941\" stroke=\"#000000\" d=\"M799,-187C799,-187 689,-187 689,-187 683,-187 677,-181 677,-175 677,-175 677,-116 677,-116 677,-110 683,-104 689,-104 689,-104 799,-104 799,-104 805,-104 811,-110 811,-116 811,-116 811,-175 811,-175 811,-181 805,-187 799,-187\"/>\n",
       "<text text-anchor=\"middle\" x=\"744\" y=\"-171.8\" font-family=\"Helvetica,sans-Serif\" font-size=\"14.00\" fill=\"#000000\">Age &lt;= 44.5</text>\n",
       "<text text-anchor=\"middle\" x=\"744\" y=\"-156.8\" font-family=\"Helvetica,sans-Serif\" font-size=\"14.00\" fill=\"#000000\">entropy = 0.892</text>\n",
       "<text text-anchor=\"middle\" x=\"744\" y=\"-141.8\" font-family=\"Helvetica,sans-Serif\" font-size=\"14.00\" fill=\"#000000\">samples = 55</text>\n",
       "<text text-anchor=\"middle\" x=\"744\" y=\"-126.8\" font-family=\"Helvetica,sans-Serif\" font-size=\"14.00\" fill=\"#000000\">value = [17, 38]</text>\n",
       "<text text-anchor=\"middle\" x=\"744\" y=\"-111.8\" font-family=\"Helvetica,sans-Serif\" font-size=\"14.00\" fill=\"#000000\">class = bad</text>\n",
       "</g>\n",
       "<!-- 8&#45;&gt;9 -->\n",
       "<g id=\"edge9\" class=\"edge\">\n",
       "<title>8&#45;&gt;9</title>\n",
       "<path fill=\"none\" stroke=\"#000000\" d=\"M744,-222.8796C744,-214.6838 744,-205.9891 744,-197.5013\"/>\n",
       "<polygon fill=\"#000000\" stroke=\"#000000\" points=\"747.5001,-197.298 744,-187.2981 740.5001,-197.2981 747.5001,-197.298\"/>\n",
       "</g>\n",
       "<!-- 12 -->\n",
       "<g id=\"node13\" class=\"node\">\n",
       "<title>12</title>\n",
       "<path fill=\"#399de5\" fill-opacity=\"0.909804\" stroke=\"#000000\" d=\"M1075.5,-187C1075.5,-187 880.5,-187 880.5,-187 874.5,-187 868.5,-181 868.5,-175 868.5,-175 868.5,-116 868.5,-116 868.5,-110 874.5,-104 880.5,-104 880.5,-104 1075.5,-104 1075.5,-104 1081.5,-104 1087.5,-110 1087.5,-116 1087.5,-116 1087.5,-175 1087.5,-175 1087.5,-181 1081.5,-187 1075.5,-187\"/>\n",
       "<text text-anchor=\"middle\" x=\"978\" y=\"-171.8\" font-family=\"Helvetica,sans-Serif\" font-size=\"14.00\" fill=\"#000000\">CreditHistory_critical &lt;= 0.5</text>\n",
       "<text text-anchor=\"middle\" x=\"978\" y=\"-156.8\" font-family=\"Helvetica,sans-Serif\" font-size=\"14.00\" fill=\"#000000\">entropy = 0.413</text>\n",
       "<text text-anchor=\"middle\" x=\"978\" y=\"-141.8\" font-family=\"Helvetica,sans-Serif\" font-size=\"14.00\" fill=\"#000000\">samples = 301</text>\n",
       "<text text-anchor=\"middle\" x=\"978\" y=\"-126.8\" font-family=\"Helvetica,sans-Serif\" font-size=\"14.00\" fill=\"#000000\">value = [25, 276]</text>\n",
       "<text text-anchor=\"middle\" x=\"978\" y=\"-111.8\" font-family=\"Helvetica,sans-Serif\" font-size=\"14.00\" fill=\"#000000\">class = bad</text>\n",
       "</g>\n",
       "<!-- 8&#45;&gt;12 -->\n",
       "<g id=\"edge12\" class=\"edge\">\n",
       "<title>8&#45;&gt;12</title>\n",
       "<path fill=\"none\" stroke=\"#000000\" d=\"M825.8418,-222.8796C845.6141,-212.8244 866.8632,-202.0183 887.026,-191.7645\"/>\n",
       "<polygon fill=\"#000000\" stroke=\"#000000\" points=\"888.8773,-194.7497 896.2044,-187.0969 885.7042,-188.5102 888.8773,-194.7497\"/>\n",
       "</g>\n",
       "<!-- 10 -->\n",
       "<g id=\"node11\" class=\"node\">\n",
       "<title>10</title>\n",
       "<path fill=\"#399de5\" fill-opacity=\"0.368627\" stroke=\"#000000\" d=\"M736,-68C736,-68 626,-68 626,-68 620,-68 614,-62 614,-56 614,-56 614,-12 614,-12 614,-6 620,0 626,0 626,0 736,0 736,0 742,0 748,-6 748,-12 748,-12 748,-56 748,-56 748,-62 742,-68 736,-68\"/>\n",
       "<text text-anchor=\"middle\" x=\"681\" y=\"-52.8\" font-family=\"Helvetica,sans-Serif\" font-size=\"14.00\" fill=\"#000000\">entropy = 0.962</text>\n",
       "<text text-anchor=\"middle\" x=\"681\" y=\"-37.8\" font-family=\"Helvetica,sans-Serif\" font-size=\"14.00\" fill=\"#000000\">samples = 44</text>\n",
       "<text text-anchor=\"middle\" x=\"681\" y=\"-22.8\" font-family=\"Helvetica,sans-Serif\" font-size=\"14.00\" fill=\"#000000\">value = [17, 27]</text>\n",
       "<text text-anchor=\"middle\" x=\"681\" y=\"-7.8\" font-family=\"Helvetica,sans-Serif\" font-size=\"14.00\" fill=\"#000000\">class = bad</text>\n",
       "</g>\n",
       "<!-- 9&#45;&gt;10 -->\n",
       "<g id=\"edge10\" class=\"edge\">\n",
       "<title>9&#45;&gt;10</title>\n",
       "<path fill=\"none\" stroke=\"#000000\" d=\"M720.5411,-103.9815C715.6078,-95.2504 710.3926,-86.0202 705.4248,-77.2281\"/>\n",
       "<polygon fill=\"#000000\" stroke=\"#000000\" points=\"708.3263,-75.2483 700.3597,-68.2637 702.2319,-78.6918 708.3263,-75.2483\"/>\n",
       "</g>\n",
       "<!-- 11 -->\n",
       "<g id=\"node12\" class=\"node\">\n",
       "<title>11</title>\n",
       "<path fill=\"#399de5\" stroke=\"#000000\" d=\"M877.5,-68C877.5,-68 778.5,-68 778.5,-68 772.5,-68 766.5,-62 766.5,-56 766.5,-56 766.5,-12 766.5,-12 766.5,-6 772.5,0 778.5,0 778.5,0 877.5,0 877.5,0 883.5,0 889.5,-6 889.5,-12 889.5,-12 889.5,-56 889.5,-56 889.5,-62 883.5,-68 877.5,-68\"/>\n",
       "<text text-anchor=\"middle\" x=\"828\" y=\"-52.8\" font-family=\"Helvetica,sans-Serif\" font-size=\"14.00\" fill=\"#000000\">entropy = 0.0</text>\n",
       "<text text-anchor=\"middle\" x=\"828\" y=\"-37.8\" font-family=\"Helvetica,sans-Serif\" font-size=\"14.00\" fill=\"#000000\">samples = 11</text>\n",
       "<text text-anchor=\"middle\" x=\"828\" y=\"-22.8\" font-family=\"Helvetica,sans-Serif\" font-size=\"14.00\" fill=\"#000000\">value = [0, 11]</text>\n",
       "<text text-anchor=\"middle\" x=\"828\" y=\"-7.8\" font-family=\"Helvetica,sans-Serif\" font-size=\"14.00\" fill=\"#000000\">class = bad</text>\n",
       "</g>\n",
       "<!-- 9&#45;&gt;11 -->\n",
       "<g id=\"edge11\" class=\"edge\">\n",
       "<title>9&#45;&gt;11</title>\n",
       "<path fill=\"none\" stroke=\"#000000\" d=\"M775.2785,-103.9815C782.0639,-94.9747 789.2495,-85.4367 796.0601,-76.3965\"/>\n",
       "<polygon fill=\"#000000\" stroke=\"#000000\" points=\"798.9653,-78.3568 802.187,-68.2637 793.3743,-74.1448 798.9653,-78.3568\"/>\n",
       "</g>\n",
       "<!-- 13 -->\n",
       "<g id=\"node14\" class=\"node\">\n",
       "<title>13</title>\n",
       "<path fill=\"#399de5\" fill-opacity=\"0.850980\" stroke=\"#000000\" d=\"M1036.5,-68C1036.5,-68 919.5,-68 919.5,-68 913.5,-68 907.5,-62 907.5,-56 907.5,-56 907.5,-12 907.5,-12 907.5,-6 913.5,0 919.5,0 919.5,0 1036.5,0 1036.5,0 1042.5,0 1048.5,-6 1048.5,-12 1048.5,-12 1048.5,-56 1048.5,-56 1048.5,-62 1042.5,-68 1036.5,-68\"/>\n",
       "<text text-anchor=\"middle\" x=\"978\" y=\"-52.8\" font-family=\"Helvetica,sans-Serif\" font-size=\"14.00\" fill=\"#000000\">entropy = 0.553</text>\n",
       "<text text-anchor=\"middle\" x=\"978\" y=\"-37.8\" font-family=\"Helvetica,sans-Serif\" font-size=\"14.00\" fill=\"#000000\">samples = 179</text>\n",
       "<text text-anchor=\"middle\" x=\"978\" y=\"-22.8\" font-family=\"Helvetica,sans-Serif\" font-size=\"14.00\" fill=\"#000000\">value = [23, 156]</text>\n",
       "<text text-anchor=\"middle\" x=\"978\" y=\"-7.8\" font-family=\"Helvetica,sans-Serif\" font-size=\"14.00\" fill=\"#000000\">class = bad</text>\n",
       "</g>\n",
       "<!-- 12&#45;&gt;13 -->\n",
       "<g id=\"edge13\" class=\"edge\">\n",
       "<title>12&#45;&gt;13</title>\n",
       "<path fill=\"none\" stroke=\"#000000\" d=\"M978,-103.9815C978,-95.618 978,-86.7965 978,-78.3409\"/>\n",
       "<polygon fill=\"#000000\" stroke=\"#000000\" points=\"981.5001,-78.2636 978,-68.2637 974.5001,-78.2637 981.5001,-78.2636\"/>\n",
       "</g>\n",
       "<!-- 14 -->\n",
       "<g id=\"node15\" class=\"node\">\n",
       "<title>14</title>\n",
       "<path fill=\"#399de5\" fill-opacity=\"0.984314\" stroke=\"#000000\" d=\"M1189,-68C1189,-68 1079,-68 1079,-68 1073,-68 1067,-62 1067,-56 1067,-56 1067,-12 1067,-12 1067,-6 1073,0 1079,0 1079,0 1189,0 1189,0 1195,0 1201,-6 1201,-12 1201,-12 1201,-56 1201,-56 1201,-62 1195,-68 1189,-68\"/>\n",
       "<text text-anchor=\"middle\" x=\"1134\" y=\"-52.8\" font-family=\"Helvetica,sans-Serif\" font-size=\"14.00\" fill=\"#000000\">entropy = 0.121</text>\n",
       "<text text-anchor=\"middle\" x=\"1134\" y=\"-37.8\" font-family=\"Helvetica,sans-Serif\" font-size=\"14.00\" fill=\"#000000\">samples = 122</text>\n",
       "<text text-anchor=\"middle\" x=\"1134\" y=\"-22.8\" font-family=\"Helvetica,sans-Serif\" font-size=\"14.00\" fill=\"#000000\">value = [2, 120]</text>\n",
       "<text text-anchor=\"middle\" x=\"1134\" y=\"-7.8\" font-family=\"Helvetica,sans-Serif\" font-size=\"14.00\" fill=\"#000000\">class = bad</text>\n",
       "</g>\n",
       "<!-- 12&#45;&gt;14 -->\n",
       "<g id=\"edge14\" class=\"edge\">\n",
       "<title>12&#45;&gt;14</title>\n",
       "<path fill=\"none\" stroke=\"#000000\" d=\"M1036.0886,-103.9815C1049.7189,-94.2394 1064.2184,-83.8759 1077.7658,-74.193\"/>\n",
       "<polygon fill=\"#000000\" stroke=\"#000000\" points=\"1079.9612,-76.926 1086.0616,-68.2637 1075.8908,-71.2311 1079.9612,-76.926\"/>\n",
       "</g>\n",
       "</g>\n",
       "</svg>\n"
      ],
      "text/plain": [
       "<graphviz.files.Source at 0x7feff7b6a090>"
      ]
     },
     "execution_count": 17,
     "metadata": {},
     "output_type": "execute_result"
    }
   ],
   "source": [
    "dot_data = export_graphviz(dt, out_file=None, \n",
    "    feature_names=X.columns,  \n",
    "    class_names=credit_clean['Approve'].unique(),  \n",
    "    filled=True, rounded=True,  \n",
    "    special_characters=False)\n",
    "graph = graphviz.Source(dot_data)\n",
    "graph"
   ]
  },
  {
   "cell_type": "markdown",
   "metadata": {},
   "source": [
    "An alternative way to visualise the tree is to open the output .dot file with an editor such as [this online .dot renderer](http://dreampuf.github.io/GraphvizOnline/). You can use the code below to create a dot-file and then copy and paste its contents into the online site (you can double click on the tree once it has been produced to view it in full screen)."
   ]
  },
  {
   "cell_type": "code",
   "execution_count": 18,
   "metadata": {},
   "outputs": [],
   "source": [
    "with open(\"tree.dot\", 'w') as f:\n",
    "    f = export_graphviz(dt, out_file=f,\n",
    "                        feature_names=X.columns,  \n",
    "                        class_names=credit_clean['Approve'].unique(),  \n",
    "                        filled=True, rounded=True,  \n",
    "                        special_characters=False)"
   ]
  },
  {
   "cell_type": "markdown",
   "metadata": {},
   "source": [
    "### ========== Question 1.13 ==========\n",
    "Inspect the tree and\n",
    " 1. describe what it shows, explaining how you interpret any one-hot encoded data\n",
    " 1. indicate which is the attribute with the highest information gain."
   ]
  },
  {
   "cell_type": "markdown",
   "metadata": {},
   "source": [
    "***Your answer goes here:***"
   ]
  },
  {
   "cell_type": "markdown",
   "metadata": {},
   "source": [
    "### ========== Question 1.14 ==========\n",
    "Tree-based estimators (i.e. decision trees and random forests) can be used to compute feature importances. The importance of a feature is computed as the (normalized) total reduction of entropy (or other used `criterion`) brought by that feature. Find the relevant attributes of the classifier you just trained (i.e. those which are actually used in this short tree) and display feature importances along with their names."
   ]
  },
  {
   "cell_type": "code",
   "execution_count": 19,
   "metadata": {
    "collapsed": true
   },
   "outputs": [
    {
     "name": "stdout",
     "output_type": "stream",
     "text": [
      "Duration\t-->\t0.1173849346376025.\n",
      "CreditAmount\t-->\t0.0.\n",
      "Age\t-->\t0.04580028520609963.\n",
      "CheckingAccount_<0\t-->\t0.09381316996418894.\n",
      "CheckingAccount_<200\t-->\t0.0.\n",
      "CheckingAccount_>=200\t-->\t0.0.\n",
      "CheckingAccount_none\t-->\t0.5240812953489914.\n",
      "CreditHistory_critical\t-->\t0.07161838018360235.\n",
      "CreditHistory_ok\t-->\t0.0.\n",
      "CreditHistory_ok_at_this_bank\t-->\t0.05846282970426685.\n",
      "CreditHistory_ok_til_now\t-->\t0.0.\n",
      "CreditHistory_past_delays\t-->\t0.0.\n",
      "Purpose_appliances\t-->\t0.0.\n",
      "Purpose_business\t-->\t0.0.\n",
      "Purpose_car_new\t-->\t0.0.\n",
      "Purpose_car_used\t-->\t0.0.\n",
      "Purpose_education\t-->\t0.0.\n",
      "Purpose_furniture\t-->\t0.0.\n",
      "Purpose_others\t-->\t0.0.\n",
      "Purpose_repairs\t-->\t0.0.\n",
      "Purpose_retraining\t-->\t0.0.\n",
      "Purpose_television\t-->\t0.0.\n",
      "SavingsAccount_<100\t-->\t0.0.\n",
      "SavingsAccount_<1000\t-->\t0.0.\n",
      "SavingsAccount_<500\t-->\t0.0.\n",
      "SavingsAccount_>=1000\t-->\t0.0.\n",
      "SavingsAccount_unknown\t-->\t0.0.\n",
      "YearsEmployed_<1\t-->\t0.0.\n",
      "YearsEmployed_<4\t-->\t0.0.\n",
      "YearsEmployed_<7\t-->\t0.0.\n",
      "YearsEmployed_>=7\t-->\t0.0.\n",
      "YearsEmployed_unemployed\t-->\t0.0.\n",
      "InstallmentRate_1.0\t-->\t0.0.\n",
      "InstallmentRate_2.0\t-->\t0.0.\n",
      "InstallmentRate_3.0\t-->\t0.0.\n",
      "InstallmentRate_4.0\t-->\t0.0.\n",
      "PersonalStatus_female\t-->\t0.0.\n",
      "PersonalStatus_male_divorced\t-->\t0.0.\n",
      "PersonalStatus_male_married\t-->\t0.0.\n",
      "PersonalStatus_male_single\t-->\t0.0.\n",
      "OtherDebtors_co\t-->\t0.0.\n",
      "OtherDebtors_guarantor\t-->\t0.0.\n",
      "OtherDebtors_none\t-->\t0.0.\n",
      "ResidentSince_1.0\t-->\t0.0.\n",
      "ResidentSince_2.0\t-->\t0.0.\n",
      "ResidentSince_3.0\t-->\t0.0.\n",
      "ResidentSince_4.0\t-->\t0.0.\n",
      "Property_car\t-->\t0.0.\n",
      "Property_real_estate\t-->\t0.0.\n",
      "Property_savings\t-->\t0.0.\n",
      "Property_unknown\t-->\t0.0.\n",
      "OtherPlans_bank\t-->\t0.0.\n",
      "OtherPlans_none\t-->\t0.08883910495524838.\n",
      "OtherPlans_stores\t-->\t0.0.\n",
      "Housing_free\t-->\t0.0.\n",
      "Housing_own\t-->\t0.0.\n",
      "Housing_rent\t-->\t0.0.\n",
      "NumCreditsAtBank_1.0\t-->\t0.0.\n",
      "NumCreditsAtBank_2.0\t-->\t0.0.\n",
      "NumCreditsAtBank_3.0\t-->\t0.0.\n",
      "NumCreditsAtBank_4.0\t-->\t0.0.\n",
      "Job_management\t-->\t0.0.\n",
      "Job_skilled\t-->\t0.0.\n",
      "Job_unemployed\t-->\t0.0.\n",
      "Job_unskilled\t-->\t0.0.\n",
      "Dependents_1.0\t-->\t0.0.\n",
      "Dependents_2.0\t-->\t0.0.\n",
      "Telephone_no\t-->\t0.0.\n",
      "Telephone_yes\t-->\t0.0.\n",
      "Foreign_no\t-->\t0.0.\n",
      "Foreign_yes\t-->\t0.0.\n"
     ]
    }
   ],
   "source": [
    "# Your Code goes here:\n",
    "for i, c in enumerate(X):\n",
    "    print(\"{}\\t-->\\t{}.\".format(c, dt.feature_importances_[i]))"
   ]
  },
  {
   "cell_type": "markdown",
   "metadata": {},
   "source": [
    "### ========== Question 1.15 ==========\n",
    "Now we want to evaluate the performance of the classifier on unseen data. Use the trained model to predict the target variables for the test data set. Display the classification accuracy for both the training and test data sets. What do you observe? Are you surprised by the results?"
   ]
  },
  {
   "cell_type": "code",
   "execution_count": 20,
   "metadata": {
    "collapsed": true
   },
   "outputs": [
    {
     "name": "stdout",
     "output_type": "stream",
     "text": [
      "Accuracy on training set: 0.738\n",
      "Accuracy on test set: 0.610\n"
     ]
    }
   ],
   "source": [
    "# Your Code goes here:\n",
    "prediction_train = dt.predict(X_train)\n",
    "prediction_test = dt.predict(X_test)\n",
    "print(\"Accuracy on training set: {:.3f}\".format(accuracy_score(prediction_train, y_train)))\n",
    "print(\"Accuracy on test set: {:.3f}\".format(accuracy_score(prediction_test, y_test)))"
   ]
  },
  {
   "cell_type": "markdown",
   "metadata": {},
   "source": [
    "#STARTHIDE#\n",
    "\n",
    "The decision tree classifier is (probably) not overfitting. The classification accuracy is similar for training and test. The decision tree has provided a very simple way to interpret the data - splitting it into 8 bins and applying a class to each bin. Clearly this is an oversimplification: even in the training data, the leaves of the tree contain many examples of the 'incorrect' class.\n",
    "\n",
    "#ENDHIDE"
   ]
  },
  {
   "cell_type": "markdown",
   "metadata": {},
   "source": [
    "**However, the very astute will make an observation:** *Hint: Have a look at the class distribution in the dataset.*"
   ]
  },
  {
   "cell_type": "code",
   "execution_count": 21,
   "metadata": {
    "collapsed": true
   },
   "outputs": [
    {
     "data": {
      "image/png": "[encoded data removed]",
      "text/plain": [
       "<Figure size 576x288 with 2 Axes>"
      ]
     },
     "metadata": {
      "needs_background": "light"
     },
     "output_type": "display_data"
    }
   ],
   "source": [
    "fig, (ax1, ax2) = plt.subplots(1,2, figsize=(8,4))\n",
    "sns.countplot(y_train, ax=ax1)\n",
    "ax1.set_title('Training set', size=12)\n",
    "ax1.set_xlabel(' ')\n",
    "sns.countplot(y_test, ax=ax2)\n",
    "ax2.set_xlabel(' ')\n",
    "ax2.set_ylabel('')\n",
    "ax2.set_title('Validation set', size=12)\n",
    "fig.suptitle('Target distribution', size=12)\n",
    "plt.show()"
   ]
  },
  {
   "cell_type": "markdown",
   "metadata": {},
   "source": [
    "The dummy classifier of predicting everything as 'good' **will beat this model (75% accuracy on Validation Set)!** In other words, our model is worse than the baseline. **Always compare your models with very simple baselines**."
   ]
  },
  {
   "cell_type": "markdown",
   "metadata": {},
   "source": [
    "### ========== Question 1.16 ==========\n",
    "\n",
    "Fit another `DecisionTreeClassifier` but this time grow it to full depth (i.e. remove the max_depth condition). Again, use a `random_state=1000`. Display the classification accuracy for training and test data as above. Again, what do you observe and are you surprised?"
   ]
  },
  {
   "cell_type": "code",
   "execution_count": 22,
   "metadata": {},
   "outputs": [
    {
     "name": "stdout",
     "output_type": "stream",
     "text": [
      "Accuracy on training set: 1.000\n",
      "Accuracy on test set: 0.670\n"
     ]
    }
   ],
   "source": [
    "# Your Code goes here:\n",
    "dt_2 = DecisionTreeClassifier(criterion=\"entropy\", random_state=1000)\n",
    "dt_2.fit(X_train, y_train)\n",
    "prediction_train_2 = dt_2.predict(X_train)\n",
    "prediction_test_2 = dt_2.predict(X_test)\n",
    "print(\"Accuracy on training set: {:.3f}\".format(accuracy_score(prediction_train_2, y_train)))\n",
    "print(\"Accuracy on test set: {:.3f}\".format(accuracy_score(prediction_test_2, y_test)))"
   ]
  },
  {
   "cell_type": "markdown",
   "metadata": {},
   "source": [
    "***Your answer goes here:*** The accuracy on the training set is 100% and the accuracy on the test set is now lower. We can conclude that the Decision Tree is now overfitting. Since the tree is allowed to grow to full depth, it will try and fit the training data perfectly, making it worse at generalising. This is why the accuracy on the test set is lower."
   ]
  },
  {
   "cell_type": "markdown",
   "metadata": {},
   "source": [
    "### ========== Question 1.17 ==========\n",
    "By using seaborn's heatmap function, plot the normalised confusion matrices for both the training and test data sets **for the max_depth=3 decision tree from question 1.12**. Make sure you label axes appropriately. *Hint: You can make use of the `plot_confusion_matrix` function introduced in a previous lab, reproduced below.*"
   ]
  },
  {
   "cell_type": "code",
   "execution_count": 23,
   "metadata": {},
   "outputs": [],
   "source": [
    "def plot_confusion_matrix(cm, classes=None, title='Confusion matrix'):\n",
    "    \"\"\"Plots a confusion matrix.\"\"\"\n",
    "    if classes is not None:\n",
    "        sns.heatmap(cm, xticklabels=classes, yticklabels=classes, vmin=0., vmax=1., annot=True)\n",
    "    else:\n",
    "        sns.heatmap(cm, vmin=0., vmax=1.)\n",
    "    plt.title(title)\n",
    "    plt.ylabel('True label')\n",
    "    plt.xlabel('Predicted label')"
   ]
  },
  {
   "cell_type": "code",
   "execution_count": 24,
   "metadata": {},
   "outputs": [
    {
     "data": {
      "image/png": "[encoded data removed]",
      "text/plain": [
       "<Figure size 432x288 with 2 Axes>"
      ]
     },
     "metadata": {
      "needs_background": "light"
     },
     "output_type": "display_data"
    }
   ],
   "source": [
    "# Normalised Data\n",
    "\n",
    "# Your Code goes here:\n",
    "cm = confusion_matrix(y_train, prediction_train)\n",
    "cm_norm = cm/cm.sum(axis=1)[:, np.newaxis]\n",
    "plt.figure()\n",
    "plot_confusion_matrix(cm_norm, classes=dt.classes_)"
   ]
  },
  {
   "cell_type": "code",
   "execution_count": 25,
   "metadata": {
    "collapsed": true
   },
   "outputs": [
    {
     "data": {
      "image/png": "[encoded data removed]",
      "text/plain": [
       "<Figure size 432x288 with 2 Axes>"
      ]
     },
     "metadata": {
      "needs_background": "light"
     },
     "output_type": "display_data"
    }
   ],
   "source": [
    "# Validation Data\n",
    "\n",
    "# Your Code goes here:\n",
    "cm = confusion_matrix(y_test, prediction_test)\n",
    "cm_norm = cm/cm.sum(axis=1)[:, np.newaxis]\n",
    "plt.figure()\n",
    "plot_confusion_matrix(cm_norm, classes=dt.classes_)"
   ]
  },
  {
   "cell_type": "markdown",
   "metadata": {},
   "source": [
    "**N.B. it will be obvious if you have plotted the full depth decision tree as the training confusion matrix will be the identity**"
   ]
  },
  {
   "cell_type": "markdown",
   "metadata": {},
   "source": [
    "### ========== Question 1.18 ==========\n",
    "\n",
    "Finally we will create a [`Random decision forest`](http://scikit-learn.org/0.19/modules/generated/sklearn.ensemble.RandomForestClassifier.html) classifier and compare the performance of this classifier to that of the decision tree. The random decision forest is an ensemble classifier that consists of many decision trees and outputs the class that is the mode of the class's output by individual trees. Start with `n_estimators = 100`, use the `entropy` criterion and the same train/test split as before. Plot the classification accuracy of the random forest model on the test set and show the confusion matrix. How does the random decision forest compare performance wise to the decision tree?"
   ]
  },
  {
   "cell_type": "code",
   "execution_count": 26,
   "metadata": {
    "collapsed": true
   },
   "outputs": [
    {
     "name": "stdout",
     "output_type": "stream",
     "text": [
      "Accuracy on test set: 0.720\n"
     ]
    },
    {
     "data": {
      "image/png": "[encoded data removed]",
      "text/plain": [
       "<Figure size 432x288 with 2 Axes>"
      ]
     },
     "metadata": {
      "needs_background": "light"
     },
     "output_type": "display_data"
    }
   ],
   "source": [
    "# Your Code goes here:\n",
    "rdf = RandomForestClassifier(n_estimators=100, criterion=\"entropy\")\n",
    "rdf.fit(X_train, y_train)\n",
    "prediction_test_rdf = rdf.predict(X_test)\n",
    "print(\"Accuracy on test set: {:.3f}\".format(accuracy_score(prediction_test_rdf, y_test)))\n",
    "cm = confusion_matrix(y_test, prediction_test_rdf)\n",
    "cm_norm = cm/cm.sum(axis=1)[:, np.newaxis]\n",
    "plt.figure()\n",
    "plot_confusion_matrix(cm_norm, classes=dt.classes_)"
   ]
  },
  {
   "cell_type": "markdown",
   "metadata": {},
   "source": [
    "### ========== Question 1.19 ==========\n",
    "How high can you get the performance of the classifier by changing the max depth of the trees (`max_depth`), or the `max_features` parameters? Try a few values just to get a look. *Don't do a grid search or anything in-depth, just get a feel*. Try the same settings twice...do you get the same accuracy?"
   ]
  },
  {
   "cell_type": "code",
   "execution_count": 27,
   "metadata": {
    "collapsed": true
   },
   "outputs": [
    {
     "name": "stdout",
     "output_type": "stream",
     "text": [
      "Classification accuracy on test set with max features = 1 and max_depth = None: 0.730\n",
      "Classification accuracy on test set with max features = 1 and max_depth = 3: 0.750\n",
      "Classification accuracy on test set with max features = 1 and max_depth = 5: 0.750\n",
      "Classification accuracy on test set with max features = 1 and max_depth = 10: 0.750\n",
      "Classification accuracy on test set with max features = sqrt and max_depth = None: 0.740\n",
      "Classification accuracy on test set with max features = sqrt and max_depth = 3: 0.750\n",
      "Classification accuracy on test set with max features = sqrt and max_depth = 5: 0.740\n",
      "Classification accuracy on test set with max features = sqrt and max_depth = 10: 0.740\n",
      "Classification accuracy on test set with max features = log2 and max_depth = None: 0.740\n",
      "Classification accuracy on test set with max features = log2 and max_depth = 3: 0.750\n",
      "Classification accuracy on test set with max features = log2 and max_depth = 5: 0.750\n",
      "Classification accuracy on test set with max features = log2 and max_depth = 10: 0.720\n"
     ]
    },
    {
     "data": {
      "image/png": "[encoded data removed]",
      "text/plain": [
       "<Figure size 432x288 with 2 Axes>"
      ]
     },
     "metadata": {
      "needs_background": "light"
     },
     "output_type": "display_data"
    },
    {
     "data": {
      "image/png": "[encoded data removed]",
      "text/plain": [
       "<Figure size 432x288 with 2 Axes>"
      ]
     },
     "metadata": {
      "needs_background": "light"
     },
     "output_type": "display_data"
    },
    {
     "data": {
      "image/png": "[encoded data removed]",
      "text/plain": [
       "<Figure size 432x288 with 2 Axes>"
      ]
     },
     "metadata": {
      "needs_background": "light"
     },
     "output_type": "display_data"
    },
    {
     "data": {
      "image/png": "[encoded data removed]",
      "text/plain": [
       "<Figure size 432x288 with 2 Axes>"
      ]
     },
     "metadata": {
      "needs_background": "light"
     },
     "output_type": "display_data"
    },
    {
     "data": {
      "image/png": "[encoded data removed]",
      "text/plain": [
       "<Figure size 432x288 with 2 Axes>"
      ]
     },
     "metadata": {
      "needs_background": "light"
     },
     "output_type": "display_data"
    },
    {
     "data": {
      "image/png": "[encoded data removed]",
      "text/plain": [
       "<Figure size 432x288 with 2 Axes>"
      ]
     },
     "metadata": {
      "needs_background": "light"
     },
     "output_type": "display_data"
    },
    {
     "data": {
      "image/png": "[encoded data removed]",
      "text/plain": [
       "<Figure size 432x288 with 2 Axes>"
      ]
     },
     "metadata": {
      "needs_background": "light"
     },
     "output_type": "display_data"
    },
    {
     "data": {
      "image/png": "[encoded data removed]",
      "text/plain": [
       "<Figure size 432x288 with 2 Axes>"
      ]
     },
     "metadata": {
      "needs_background": "light"
     },
     "output_type": "display_data"
    },
    {
     "data": {
      "image/png": "[encoded data removed]",
      "text/plain": [
       "<Figure size 432x288 with 2 Axes>"
      ]
     },
     "metadata": {
      "needs_background": "light"
     },
     "output_type": "display_data"
    },
    {
     "data": {
      "image/png": "[encoded data removed]",
      "text/plain": [
       "<Figure size 432x288 with 2 Axes>"
      ]
     },
     "metadata": {
      "needs_background": "light"
     },
     "output_type": "display_data"
    },
    {
     "data": {
      "image/png": "[encoded data removed]",
      "text/plain": [
       "<Figure size 432x288 with 2 Axes>"
      ]
     },
     "metadata": {
      "needs_background": "light"
     },
     "output_type": "display_data"
    },
    {
     "data": {
      "image/png": "[encoded data removed]",
      "text/plain": [
       "<Figure size 432x288 with 2 Axes>"
      ]
     },
     "metadata": {
      "needs_background": "light"
     },
     "output_type": "display_data"
    }
   ],
   "source": [
    "# Your Code goes here:\n",
    "from itertools import product\n",
    "n_estimators = 500\n",
    "max_features = [1, 'sqrt', 'log2']\n",
    "max_depths = [None, 3, 5, 10]\n",
    "for f, d in product(max_features, max_depths): # with product we can iterate through all possible combinations\n",
    "    rdf = RandomForestClassifier(n_estimators=n_estimators, \n",
    "                                criterion='entropy', \n",
    "                                max_features=f, \n",
    "                                max_depth=d, \n",
    "                                n_jobs=2,\n",
    "                                random_state=1337)\n",
    "    rdf.fit(X_train, y_train)\n",
    "    prediction_test_rdf = rdf.predict(X=X_test)\n",
    "    print('Classification accuracy on test set with max features = {} and max_depth = {}: {:.3f}'.format(f, d, accuracy_score(y_test,prediction_test_rdf)))\n",
    "    cm = confusion_matrix(y_test, prediction_test_rdf)\n",
    "    cm_norm = cm/cm.sum(axis=1)[:, np.newaxis]\n",
    "    plt.figure()\n",
    "    plot_confusion_matrix(cm_norm, classes=rdf.classes_, title='Confusion matrix accuracy on test set with max features = {} and max_depth = {}: {:.3f}'.format(f, d, accuracy_score(y_test,prediction_test_rdf)))"
   ]
  },
  {
   "cell_type": "markdown",
   "metadata": {},
   "source": [
    "N.B. Observing these confusion matrices you'll see something very important - for some configurations, the Random Forest **always predicts the majority class**: incidentally these are also the cases which do the best. This highlights (again) the importance of always checking performance against a dummy classifier!!!\n",
    "\n",
    "Additionally, if you want to reproduce your results, you must set the random seed (you can do this with the `random_state` argument). Random forests are...random!"
   ]
  },
  {
   "cell_type": "markdown",
   "metadata": {},
   "source": [
    "### ========== Question 1.20 ==========\n",
    "Compare the feature importances as estimated with the decision tree and random forest classifiers."
   ]
  },
  {
   "cell_type": "code",
   "execution_count": 28,
   "metadata": {
    "collapsed": true
   },
   "outputs": [
    {
     "name": "stdout",
     "output_type": "stream",
     "text": [
      "Importance of feature CheckingAccount, DT: 0.117, RF: 0.054\n",
      "Importance of feature Duration, DT: 0.000, RF: 0.062\n",
      "Importance of feature CreditHistory, DT: 0.046, RF: 0.055\n",
      "Importance of feature Purpose, DT: 0.094, RF: 0.035\n",
      "Importance of feature CreditAmount, DT: 0.000, RF: 0.018\n",
      "Importance of feature SavingsAccount, DT: 0.000, RF: 0.008\n",
      "Importance of feature YearsEmployed, DT: 0.524, RF: 0.044\n",
      "Importance of feature InstallmentRate, DT: 0.072, RF: 0.024\n",
      "Importance of feature PersonalStatus, DT: 0.000, RF: 0.013\n",
      "Importance of feature OtherDebtors, DT: 0.058, RF: 0.011\n",
      "Importance of feature ResidentSince, DT: 0.000, RF: 0.015\n",
      "Importance of feature Property, DT: 0.000, RF: 0.008\n",
      "Importance of feature Age, DT: 0.000, RF: 0.003\n",
      "Importance of feature OtherPlans, DT: 0.000, RF: 0.009\n",
      "Importance of feature Housing, DT: 0.000, RF: 0.016\n",
      "Importance of feature NumCreditsAtBank, DT: 0.000, RF: 0.013\n",
      "Importance of feature Job, DT: 0.000, RF: 0.007\n",
      "Importance of feature Dependents, DT: 0.000, RF: 0.011\n",
      "Importance of feature Telephone, DT: 0.000, RF: 0.003\n",
      "Importance of feature Foreign, DT: 0.000, RF: 0.004\n"
     ]
    },
    {
     "data": {
      "image/png": "[encoded data removed]",
      "text/plain": [
       "<Figure size 1152x432 with 2 Axes>"
      ]
     },
     "metadata": {
      "needs_background": "light"
     },
     "output_type": "display_data"
    }
   ],
   "source": [
    "# Your Code goes here:\n",
    "rdf = RandomForestClassifier(n_estimators=500, \n",
    "                            criterion='entropy', \n",
    "                            max_features=1, \n",
    "                            max_depth=10, \n",
    "                            n_jobs=2)\n",
    "rdf.fit(X_train, y_train)\n",
    "fig, (ax1, ax2) = plt.subplots(1,2, figsize=(16,6))\n",
    "xx = np.arange(len(dt.feature_importances_))\n",
    "ax1.bar(xx, dt.feature_importances_)\n",
    "ax1.set_xticks(xx)\n",
    "ax1.set_xticklabels(credit_clean.drop('Approve', axis=1).columns, rotation='vertical')\n",
    "ax1.set_title('Decision tree depth 2 importances')\n",
    "ax2.bar(xx, rdf.feature_importances_)\n",
    "ax2.set_xticks(xx)\n",
    "ax2.set_xticklabels(credit_clean.drop('Approve', axis=1).columns, rotation='vertical')\n",
    "ax2.set_title('Random forest max features=1 , max depth=10')\n",
    "\n",
    "for i, column in enumerate(credit_clean.drop('Approve', axis=1)):\n",
    "    print('Importance of feature {}, DT: {:.3f}, RF: {:.3f}'.format(column, dt.feature_importances_[i], rdf.feature_importances_[i]))"
   ]
  },
  {
   "cell_type": "markdown",
   "metadata": {},
   "source": [
    "## 2. Linear regression\n",
    "In the second part of the lab we use the [CPU performance](https://archive.ics.uci.edu/ml/datasets/Computer+Hardware) dataset for a simple regression task. Famliarise yourself with the dataset before moving on to the next step. Note that the version we will be using is missing the `Model Name` and `PRP` attributes. Our task will be to use the remaining attributes to predict `ERP` values.\n",
    "\n",
    "Download the dataset and save it in a directory called `datasets` in the same folder that your notebooks live. Alternatively, you can save the dataset in any folder you wish and modify the `data_path` variable below accordingly. We will load our data into a pandas DataFrame structure. "
   ]
  },
  {
   "cell_type": "code",
   "execution_count": 2,
   "metadata": {},
   "outputs": [],
   "source": [
    "# Load the dataset\n",
    "data_path = os.path.join(os.getcwd(), 'datasets', 'cpu.csv')\n",
    "cpu = pd.read_csv(data_path, delimiter = ',')"
   ]
  },
  {
   "cell_type": "markdown",
   "metadata": {},
   "source": [
    "### ========== Question 2.1 ==========\n",
    "Display the number of data points and attributes in the dataset. "
   ]
  },
  {
   "cell_type": "code",
   "execution_count": 3,
   "metadata": {},
   "outputs": [
    {
     "name": "stdout",
     "output_type": "stream",
     "text": [
      "Data points: 209. Attributes: 8.\n"
     ]
    }
   ],
   "source": [
    "# Your Code goes here:\n",
    "print(\"Data points: {}. Attributes: {}.\".format(len(cpu), len(cpu.columns)))"
   ]
  },
  {
   "cell_type": "markdown",
   "metadata": {},
   "source": [
    "### ========== Question 2.2 ==========\n",
    "Get a feeling of the data by using pandas `describe()` method. "
   ]
  },
  {
   "cell_type": "code",
   "execution_count": 4,
   "metadata": {},
   "outputs": [
    {
     "data": {
      "text/html": [
       "<div>\n",
       "<style scoped>\n",
       "    .dataframe tbody tr th:only-of-type {\n",
       "        vertical-align: middle;\n",
       "    }\n",
       "\n",
       "    .dataframe tbody tr th {\n",
       "        vertical-align: top;\n",
       "    }\n",
       "\n",
       "    .dataframe thead th {\n",
       "        text-align: right;\n",
       "    }\n",
       "</style>\n",
       "<table border=\"1\" class=\"dataframe\">\n",
       "  <thead>\n",
       "    <tr style=\"text-align: right;\">\n",
       "      <th></th>\n",
       "      <th>MYCT</th>\n",
       "      <th>MMIN</th>\n",
       "      <th>MMAX</th>\n",
       "      <th>CACH</th>\n",
       "      <th>CHMIN</th>\n",
       "      <th>CHMAX</th>\n",
       "      <th>ERP</th>\n",
       "    </tr>\n",
       "  </thead>\n",
       "  <tbody>\n",
       "    <tr>\n",
       "      <th>count</th>\n",
       "      <td>209.000000</td>\n",
       "      <td>209.000000</td>\n",
       "      <td>209.000000</td>\n",
       "      <td>209.000000</td>\n",
       "      <td>209.000000</td>\n",
       "      <td>209.000000</td>\n",
       "      <td>209.000000</td>\n",
       "    </tr>\n",
       "    <tr>\n",
       "      <th>mean</th>\n",
       "      <td>203.822967</td>\n",
       "      <td>2867.980861</td>\n",
       "      <td>11796.153110</td>\n",
       "      <td>25.205742</td>\n",
       "      <td>4.698565</td>\n",
       "      <td>18.267943</td>\n",
       "      <td>99.330144</td>\n",
       "    </tr>\n",
       "    <tr>\n",
       "      <th>std</th>\n",
       "      <td>260.262926</td>\n",
       "      <td>3878.742758</td>\n",
       "      <td>11726.564377</td>\n",
       "      <td>40.628722</td>\n",
       "      <td>6.816274</td>\n",
       "      <td>25.997318</td>\n",
       "      <td>154.757102</td>\n",
       "    </tr>\n",
       "    <tr>\n",
       "      <th>min</th>\n",
       "      <td>17.000000</td>\n",
       "      <td>64.000000</td>\n",
       "      <td>64.000000</td>\n",
       "      <td>0.000000</td>\n",
       "      <td>0.000000</td>\n",
       "      <td>0.000000</td>\n",
       "      <td>15.000000</td>\n",
       "    </tr>\n",
       "    <tr>\n",
       "      <th>25%</th>\n",
       "      <td>50.000000</td>\n",
       "      <td>768.000000</td>\n",
       "      <td>4000.000000</td>\n",
       "      <td>0.000000</td>\n",
       "      <td>1.000000</td>\n",
       "      <td>5.000000</td>\n",
       "      <td>28.000000</td>\n",
       "    </tr>\n",
       "    <tr>\n",
       "      <th>50%</th>\n",
       "      <td>110.000000</td>\n",
       "      <td>2000.000000</td>\n",
       "      <td>8000.000000</td>\n",
       "      <td>8.000000</td>\n",
       "      <td>2.000000</td>\n",
       "      <td>8.000000</td>\n",
       "      <td>45.000000</td>\n",
       "    </tr>\n",
       "    <tr>\n",
       "      <th>75%</th>\n",
       "      <td>225.000000</td>\n",
       "      <td>4000.000000</td>\n",
       "      <td>16000.000000</td>\n",
       "      <td>32.000000</td>\n",
       "      <td>6.000000</td>\n",
       "      <td>24.000000</td>\n",
       "      <td>101.000000</td>\n",
       "    </tr>\n",
       "    <tr>\n",
       "      <th>max</th>\n",
       "      <td>1500.000000</td>\n",
       "      <td>32000.000000</td>\n",
       "      <td>64000.000000</td>\n",
       "      <td>256.000000</td>\n",
       "      <td>52.000000</td>\n",
       "      <td>176.000000</td>\n",
       "      <td>1238.000000</td>\n",
       "    </tr>\n",
       "  </tbody>\n",
       "</table>\n",
       "</div>"
      ],
      "text/plain": [
       "              MYCT          MMIN          MMAX        CACH       CHMIN  \\\n",
       "count   209.000000    209.000000    209.000000  209.000000  209.000000   \n",
       "mean    203.822967   2867.980861  11796.153110   25.205742    4.698565   \n",
       "std     260.262926   3878.742758  11726.564377   40.628722    6.816274   \n",
       "min      17.000000     64.000000     64.000000    0.000000    0.000000   \n",
       "25%      50.000000    768.000000   4000.000000    0.000000    1.000000   \n",
       "50%     110.000000   2000.000000   8000.000000    8.000000    2.000000   \n",
       "75%     225.000000   4000.000000  16000.000000   32.000000    6.000000   \n",
       "max    1500.000000  32000.000000  64000.000000  256.000000   52.000000   \n",
       "\n",
       "            CHMAX          ERP  \n",
       "count  209.000000   209.000000  \n",
       "mean    18.267943    99.330144  \n",
       "std     25.997318   154.757102  \n",
       "min      0.000000    15.000000  \n",
       "25%      5.000000    28.000000  \n",
       "50%      8.000000    45.000000  \n",
       "75%     24.000000   101.000000  \n",
       "max    176.000000  1238.000000  "
      ]
     },
     "execution_count": 4,
     "metadata": {},
     "output_type": "execute_result"
    }
   ],
   "source": [
    "# Your Code goes here:\n",
    "cpu.describe()"
   ]
  },
  {
   "cell_type": "markdown",
   "metadata": {},
   "source": [
    "### ========== Question 2.3 ==========\n",
    "Display the first 10 data points of the dataset"
   ]
  },
  {
   "cell_type": "code",
   "execution_count": 5,
   "metadata": {},
   "outputs": [
    {
     "data": {
      "text/html": [
       "<div>\n",
       "<style scoped>\n",
       "    .dataframe tbody tr th:only-of-type {\n",
       "        vertical-align: middle;\n",
       "    }\n",
       "\n",
       "    .dataframe tbody tr th {\n",
       "        vertical-align: top;\n",
       "    }\n",
       "\n",
       "    .dataframe thead th {\n",
       "        text-align: right;\n",
       "    }\n",
       "</style>\n",
       "<table border=\"1\" class=\"dataframe\">\n",
       "  <thead>\n",
       "    <tr style=\"text-align: right;\">\n",
       "      <th></th>\n",
       "      <th>vendor</th>\n",
       "      <th>MYCT</th>\n",
       "      <th>MMIN</th>\n",
       "      <th>MMAX</th>\n",
       "      <th>CACH</th>\n",
       "      <th>CHMIN</th>\n",
       "      <th>CHMAX</th>\n",
       "      <th>ERP</th>\n",
       "    </tr>\n",
       "  </thead>\n",
       "  <tbody>\n",
       "    <tr>\n",
       "      <th>0</th>\n",
       "      <td>adviser</td>\n",
       "      <td>125.0</td>\n",
       "      <td>256.0</td>\n",
       "      <td>6000.0</td>\n",
       "      <td>256.0</td>\n",
       "      <td>16.0</td>\n",
       "      <td>128.0</td>\n",
       "      <td>199.0</td>\n",
       "    </tr>\n",
       "    <tr>\n",
       "      <th>1</th>\n",
       "      <td>amdahl</td>\n",
       "      <td>29.0</td>\n",
       "      <td>8000.0</td>\n",
       "      <td>32000.0</td>\n",
       "      <td>32.0</td>\n",
       "      <td>8.0</td>\n",
       "      <td>32.0</td>\n",
       "      <td>253.0</td>\n",
       "    </tr>\n",
       "    <tr>\n",
       "      <th>2</th>\n",
       "      <td>amdahl</td>\n",
       "      <td>29.0</td>\n",
       "      <td>8000.0</td>\n",
       "      <td>32000.0</td>\n",
       "      <td>32.0</td>\n",
       "      <td>8.0</td>\n",
       "      <td>32.0</td>\n",
       "      <td>253.0</td>\n",
       "    </tr>\n",
       "    <tr>\n",
       "      <th>3</th>\n",
       "      <td>amdahl</td>\n",
       "      <td>29.0</td>\n",
       "      <td>8000.0</td>\n",
       "      <td>32000.0</td>\n",
       "      <td>32.0</td>\n",
       "      <td>8.0</td>\n",
       "      <td>32.0</td>\n",
       "      <td>253.0</td>\n",
       "    </tr>\n",
       "    <tr>\n",
       "      <th>4</th>\n",
       "      <td>amdahl</td>\n",
       "      <td>29.0</td>\n",
       "      <td>8000.0</td>\n",
       "      <td>16000.0</td>\n",
       "      <td>32.0</td>\n",
       "      <td>8.0</td>\n",
       "      <td>16.0</td>\n",
       "      <td>132.0</td>\n",
       "    </tr>\n",
       "    <tr>\n",
       "      <th>5</th>\n",
       "      <td>amdahl</td>\n",
       "      <td>26.0</td>\n",
       "      <td>8000.0</td>\n",
       "      <td>32000.0</td>\n",
       "      <td>64.0</td>\n",
       "      <td>8.0</td>\n",
       "      <td>32.0</td>\n",
       "      <td>290.0</td>\n",
       "    </tr>\n",
       "    <tr>\n",
       "      <th>6</th>\n",
       "      <td>amdahl</td>\n",
       "      <td>23.0</td>\n",
       "      <td>16000.0</td>\n",
       "      <td>32000.0</td>\n",
       "      <td>64.0</td>\n",
       "      <td>16.0</td>\n",
       "      <td>32.0</td>\n",
       "      <td>381.0</td>\n",
       "    </tr>\n",
       "    <tr>\n",
       "      <th>7</th>\n",
       "      <td>amdahl</td>\n",
       "      <td>23.0</td>\n",
       "      <td>16000.0</td>\n",
       "      <td>32000.0</td>\n",
       "      <td>64.0</td>\n",
       "      <td>16.0</td>\n",
       "      <td>32.0</td>\n",
       "      <td>381.0</td>\n",
       "    </tr>\n",
       "    <tr>\n",
       "      <th>8</th>\n",
       "      <td>amdahl</td>\n",
       "      <td>23.0</td>\n",
       "      <td>16000.0</td>\n",
       "      <td>64000.0</td>\n",
       "      <td>64.0</td>\n",
       "      <td>16.0</td>\n",
       "      <td>32.0</td>\n",
       "      <td>749.0</td>\n",
       "    </tr>\n",
       "    <tr>\n",
       "      <th>9</th>\n",
       "      <td>amdahl</td>\n",
       "      <td>23.0</td>\n",
       "      <td>32000.0</td>\n",
       "      <td>64000.0</td>\n",
       "      <td>128.0</td>\n",
       "      <td>32.0</td>\n",
       "      <td>64.0</td>\n",
       "      <td>1238.0</td>\n",
       "    </tr>\n",
       "  </tbody>\n",
       "</table>\n",
       "</div>"
      ],
      "text/plain": [
       "    vendor   MYCT     MMIN     MMAX   CACH  CHMIN  CHMAX     ERP\n",
       "0  adviser  125.0    256.0   6000.0  256.0   16.0  128.0   199.0\n",
       "1   amdahl   29.0   8000.0  32000.0   32.0    8.0   32.0   253.0\n",
       "2   amdahl   29.0   8000.0  32000.0   32.0    8.0   32.0   253.0\n",
       "3   amdahl   29.0   8000.0  32000.0   32.0    8.0   32.0   253.0\n",
       "4   amdahl   29.0   8000.0  16000.0   32.0    8.0   16.0   132.0\n",
       "5   amdahl   26.0   8000.0  32000.0   64.0    8.0   32.0   290.0\n",
       "6   amdahl   23.0  16000.0  32000.0   64.0   16.0   32.0   381.0\n",
       "7   amdahl   23.0  16000.0  32000.0   64.0   16.0   32.0   381.0\n",
       "8   amdahl   23.0  16000.0  64000.0   64.0   16.0   32.0   749.0\n",
       "9   amdahl   23.0  32000.0  64000.0  128.0   32.0   64.0  1238.0"
      ]
     },
     "execution_count": 5,
     "metadata": {},
     "output_type": "execute_result"
    }
   ],
   "source": [
    "# Your Code goes here:\n",
    "cpu.head(10)"
   ]
  },
  {
   "cell_type": "markdown",
   "metadata": {},
   "source": [
    "### ========== Question 2.4 ========== \n",
    "You might have noticed that the `vendor` attribute is categorical. This will give problems when using a linear regression model. For now we can simply remove this attribute. Create a new DataFrame called `cpu_clean` by copying `cpu` but omit the `vendor` attribute. Display the number of samples and attributes in the clean dataset as a sanity check."
   ]
  },
  {
   "cell_type": "code",
   "execution_count": 6,
   "metadata": {},
   "outputs": [],
   "source": [
    "# Your Code goes here:\n",
    "cpu_clean = cpu.drop(\"vendor\", axis=1)"
   ]
  },
  {
   "cell_type": "markdown",
   "metadata": {},
   "source": [
    "### ========== Question 2.5 ==========\n",
    "Now -as always- we want to perform some exploratory data analysis. Remember that our task is to predict `ERP` values, so it's a good idea to inspect individual scatter plots of the target variable (`ERP`) against our input features. For this purpose we will use once again seaborn's pairplot implementation.\n",
    "\n",
    "Create a series of [pairplots](https://seaborn.github.io/generated/seaborn.pairplot.html?highlight=pairplot#seaborn.pairplot) showing the pairwise relationship of `ERP` and the remaining attributes in the data. You can do so by specifying explicitly the `x_vars` and `y_vars` input arguments in the pairplot. *Hnt: Your final plot will consist of 6 subplots each contaning a scatter plot.*"
   ]
  },
  {
   "cell_type": "code",
   "execution_count": 7,
   "metadata": {},
   "outputs": [
    {
     "data": {
      "image/png": "[encoded data removed]",
      "text/plain": [
       "<Figure size 1296x216 with 6 Axes>"
      ]
     },
     "metadata": {
      "needs_background": "light"
     },
     "output_type": "display_data"
    }
   ],
   "source": [
    "# Your Code goes here:\n",
    "pairplots = sns.pairplot(data=cpu, x_vars=['MYCT', 'MMIN', 'MMAX', 'CACH', 'CHMIN', 'CHMAX'],\n",
    "                        y_vars='ERP', height=3)"
   ]
  },
  {
   "cell_type": "markdown",
   "metadata": {},
   "source": [
    "### ========== Question 2.6 ==========\n",
    "* Do you think that ERP should be at least partially predictable from the input attributes?\n",
    "* Do any attributes exhibit significant correlations?"
   ]
  },
  {
   "cell_type": "markdown",
   "metadata": {},
   "source": [
    "***Your answer goes here:*** I believe it is possible that some input attributes are correlated with ERP, meaning that it should be at least partially predict it.\n",
    "The `MMIN` and `MMAX` features appear to exhibit some correlation."
   ]
  },
  {
   "cell_type": "markdown",
   "metadata": {},
   "source": [
    "### ========== Question 2.7 ==========\n",
    "Now we have a feel for the data and we will try fitting a simple linear regression model. Similarly to what we did in the first part of the lab, we want to use cross-validation to evaluate the goodness of the fit.\n",
    "\n",
    "By using the `cpu_clean` dataset extract the raw values for the input features and the target variable and store them in two matrices, called `X` and `y` respectively. \n",
    "\n",
    "Then, split the dataset into training and testing sets by using a 75%-25% split (training/testing).\n",
    "\n",
    "Display the shapes of all matrices involved and double-check that all dimensionalities appear to be as expected."
   ]
  },
  {
   "cell_type": "code",
   "execution_count": 8,
   "metadata": {},
   "outputs": [
    {
     "name": "stdout",
     "output_type": "stream",
     "text": [
      "Number of instances in X: 209\n",
      "Number of instances in X_train: 156\n",
      "Number of instances in X_test: 53\n",
      "Number of instances in X_train and X_test together: 209\n"
     ]
    }
   ],
   "source": [
    "# Your Code goes here:\n",
    "X = cpu_clean.drop('ERP', axis=1).values\n",
    "y = cpu_clean['ERP'].values\n",
    "\n",
    "X_train, X_test, y_train, y_test = train_test_split(X, y, train_size = 0.75, test_size=0.25, random_state=0)\n",
    "\n",
    "print('Number of instances in X: {}'.format(np.shape(X)[0]))\n",
    "print('Number of instances in X_train: {}'.format(X_train.shape[0]))\n",
    "print('Number of instances in X_test: {}'.format(X_test.shape[0]))\n",
    "print('Number of instances in X_train and X_test together: {}'.format(X_train.shape[0] + X_test.shape[0]))"
   ]
  },
  {
   "cell_type": "markdown",
   "metadata": {},
   "source": [
    "### ========== Question 2.8 ==========\n",
    "Fit a simple linear regressor by using the [`LinearRegression`](http://scikit-learn.org/0.19/modules/generated/sklearn.linear_model.LinearRegression.html) model in Scikit-learn. Report the training accuracy by using the `score` attribute. What does this represent?"
   ]
  },
  {
   "cell_type": "code",
   "execution_count": 9,
   "metadata": {},
   "outputs": [
    {
     "name": "stdout",
     "output_type": "stream",
     "text": [
      "Training accuracy: 0.916\n"
     ]
    }
   ],
   "source": [
    "# Your Code goes here:\n",
    "lr = LinearRegression(fit_intercept=True, normalize=True, copy_X=True)\n",
    "lr.fit(X_train, y_train)\n",
    "print('Training accuracy: {:.3f}'.format(lr.score(X_train, y_train)))"
   ]
  },
  {
   "cell_type": "markdown",
   "metadata": {},
   "source": [
    "***Your answer goes here:*** The accuracy score represents the coefficient of determination (r-squared). This is at max 1, but cann be negative. It will be 0 if we predict the mean of y for all observations."
   ]
  },
  {
   "cell_type": "markdown",
   "metadata": {},
   "source": [
    "### ========== Question 2.9 ==========\n",
    "Now report the testing accuracy by using the `score` attribute of the regressor as well as the `r2_score` metric. Confirm that these two yield identical results.\n",
    "\n",
    "How does the accuracy compare to the one reported on the training dataset? Do you think that your model does well on generalising on unseen data? "
   ]
  },
  {
   "cell_type": "code",
   "execution_count": 10,
   "metadata": {},
   "outputs": [
    {
     "name": "stdout",
     "output_type": "stream",
     "text": [
      "Testing accuracy using score function: 0.857\n",
      "Testing accuracy using r2_score metric: 0.857\n"
     ]
    }
   ],
   "source": [
    "# Your Code goes here:\n",
    "print(\"Testing accuracy using score function: {:.3f}\".format(lr.score(X_test, y_test)))\n",
    "print(\"Testing accuracy using r2_score metric: {:.3f}\".format(r2_score(y_test, lr.predict(X_test))))"
   ]
  },
  {
   "cell_type": "markdown",
   "metadata": {},
   "source": [
    "***Your answer goes here:*** The accuracy on the test dataset is very similar to the training accuracy. From that, we can conclude that the model has not overfitted the training data."
   ]
  },
  {
   "cell_type": "markdown",
   "metadata": {},
   "source": [
    "### ========== Question 2.10 ==========\n",
    "Now we want to get a feel for how good the fit is, so we wil plot the measured values against the predicted ones. Make use of the function provided below which takes as input arguments the measured (`y_true`) and predicted (`y_pred`) values of a target variable and produces a scatter plot for the two by also including a straight line going through the origin. \n",
    "\n",
    "Where would you expect the points to be for a perfect fit?"
   ]
  },
  {
   "cell_type": "code",
   "execution_count": 11,
   "metadata": {},
   "outputs": [],
   "source": [
    "def fit_scatter(y_true, y_pred):\n",
    "    assert y_true.shape == y_pred.shape\n",
    "    fig, ax = plt.subplots()\n",
    "    ax.scatter(y_true, y_pred)\n",
    "    ax.plot([y_true.min(), y_true.max()], [y_true.min(), y_true.max()], 'k--', lw=4)\n",
    "    ax.set_xlabel('Measured')\n",
    "    ax.set_ylabel('Predicted')"
   ]
  },
  {
   "cell_type": "code",
   "execution_count": 13,
   "metadata": {},
   "outputs": [
    {
     "data": {
      "image/png": "[encoded data removed]",
      "text/plain": [
       "<Figure size 432x288 with 1 Axes>"
      ]
     },
     "metadata": {
      "needs_background": "light"
     },
     "output_type": "display_data"
    }
   ],
   "source": [
    "# Your Code goes here:\n",
    "prediction = lr.predict(X_test)\n",
    "fit_scatter(y_test, prediction)"
   ]
  },
  {
   "cell_type": "markdown",
   "metadata": {},
   "source": [
    "***Your answer goes here:*** If it was a perfect fit, all the points would be on the straight line."
   ]
  },
  {
   "cell_type": "markdown",
   "metadata": {},
   "source": [
    "### ========== Question 2.11 ==========\n",
    "Another way of assessing the performance of the model is to inspect the distribution of the errors. Make a histogram plot by using seaborn's `displot` function. This will also show an estimate of the underlying distribution.\n",
    "\n",
    "Does it look like the errors are normally distributed? Would you trust the fit of the distribution on the graph? Explain why."
   ]
  },
  {
   "cell_type": "code",
   "execution_count": 16,
   "metadata": {},
   "outputs": [
    {
     "name": "stderr",
     "output_type": "stream",
     "text": [
      "/home/tiagopgle/miniconda3/envs/py3iaml/lib/python3.7/site-packages/scipy/stats/stats.py:1713: FutureWarning: Using a non-tuple sequence for multidimensional indexing is deprecated; use `arr[tuple(seq)]` instead of `arr[seq]`. In the future this will be interpreted as an array index, `arr[np.array(seq)]`, which will result either in an error or a different result.\n",
      "  return np.add.reduce(sorted[indexer] * weights, axis=axis) / sumval\n"
     ]
    },
    {
     "data": {
      "image/png": "[encoded data removed]",
      "text/plain": [
       "<Figure size 432x288 with 1 Axes>"
      ]
     },
     "metadata": {
      "needs_background": "light"
     },
     "output_type": "display_data"
    }
   ],
   "source": [
    "# Your Code goes here:\n",
    "histogram = sns.distplot(y_test-prediction)"
   ]
  },
  {
   "cell_type": "markdown",
   "metadata": {},
   "source": [
    "***Your answer goes here:***"
   ]
  },
  {
   "cell_type": "markdown",
   "metadata": {},
   "source": [
    "### ========== Question 2.12 ==========\n",
    "Above we deleted the vendor variable. However, we can use nominal attributes in regression by converting them to numeric, exactly in the same way that we did at the first part of this lab. \n",
    "\n",
    "Now, use the original `cpu` dataset and convert the `vendor` attribute to a numeric one by means of one-hot-encoding. Then train a linear regression model to the data and compare its performance to the one we had previously. Did adding the *binazired vendor* variable help? "
   ]
  },
  {
   "cell_type": "code",
   "execution_count": 93,
   "metadata": {},
   "outputs": [],
   "source": [
    "# Your Code goes here:"
   ]
  },
  {
   "cell_type": "markdown",
   "metadata": {},
   "source": [
    "***Your answer goes here:***"
   ]
  }
 ],
 "metadata": {
  "kernelspec": {
   "display_name": "Python 3",
   "language": "python",
   "name": "python3"
  },
  "language_info": {
   "codemirror_mode": {
    "name": "ipython",
    "version": 3
   },
   "file_extension": ".py",
   "mimetype": "text/x-python",
   "name": "python",
   "nbconvert_exporter": "python",
   "pygments_lexer": "ipython3",
   "version": "3.7.7"
  }
 },
 "nbformat": 4,
 "nbformat_minor": 1
}
